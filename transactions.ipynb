{
 "cells": [
  {
   "cell_type": "markdown",
   "id": "7cb6cccd-fb52-476a-b408-0449e5f11da9",
   "metadata": {},
   "source": [
    "# Python Data\n",
    "## List\n",
    "## Dictionary\n",
    "### contoh\n",
    "<ul>\n",
    "    <li>contoh 1</li>\n",
    "    <li>contoh 2</li>\n",
    "    <li>contoh ...</li>\n",
    "</ul>"
   ]
  },
  {
   "cell_type": "code",
   "execution_count": 8,
   "id": "7a5d325d-197b-44a3-8bab-0d72bd242aba",
   "metadata": {},
   "outputs": [],
   "source": [
    "trx = {\n",
    "    \"discount\": 12,\n",
    "    \"disc_percentage\": True,\n",
    "    \"tax\": 2.5,\n",
    "    \"items\":[\n",
    "        {\n",
    "        \"product\": \"Gula pasir 1kg\",\n",
    "        \"price\": 10000,\n",
    "        \"qty\": 2\n",
    "        },\n",
    "        {\n",
    "        \"product\": \"Aqua 500 ml\",\n",
    "        \"price\": 5000,\n",
    "        \"qty\": 10\n",
    "        },\n",
    "        {\n",
    "        \"product\": \"Masako 50gr\",\n",
    "        \"price\": 1500,\n",
    "        \"qty\": 4\n",
    "        },\n",
    "        {\n",
    "        \"product\": \"Garam 500gr\",\n",
    "        \"price\": 8000,\n",
    "        \"qty\": 3\n",
    "        }\n",
    "    ]\n",
    "}"
   ]
  },
  {
   "cell_type": "code",
   "execution_count": 9,
   "id": "a05e0be0-12e8-4b4c-bd4b-80ec825cea4e",
   "metadata": {},
   "outputs": [
    {
     "name": "stdout",
     "output_type": "stream",
     "text": [
      " BILL\n",
      "==============================================\n",
      "item:\n",
      "1. Gula pasir 1kg: Rp.10000\n",
      "      qty: 2\n",
      "                     subtotal: Rp.20000\n",
      "-------------------------------------------\n",
      "2. Aqua 500 ml: Rp.5000\n",
      "      qty: 10\n",
      "                     subtotal: Rp.50000\n",
      "-------------------------------------------\n",
      "3. Masako 50gr: Rp.1500\n",
      "      qty: 4\n",
      "                     subtotal: Rp.6000\n",
      "-------------------------------------------\n",
      "4. Garam 500gr: Rp.8000\n",
      "      qty: 3\n",
      "                     subtotal: Rp.24000\n",
      "-------------------------------------------\n",
      "                        subtotal: Rp.100000\n",
      "                        total discount: Rp.12000.0\n",
      "                        pajak: Rp.2200.0\n",
      "                        grand total: Rp.90200.0\n"
     ]
    }
   ],
   "source": [
    "# BILL\n",
    "items = trx[\"items\"]\n",
    "subtotal = sum([item[\"price\"] * item[\"qty\"] for item in items])\n",
    "diskon = subtotal * trx[\"discount\"]/100 if trx[\"disc_percentage\"] else trx[\"discount\"]\n",
    "pajak = (subtotal - diskon) * trx[\"tax\"]/100\n",
    "total = subtotal - diskon + pajak\n",
    "print(\" BILL\")\n",
    "print(\"==============================================\")\n",
    "print(\"item:\")\n",
    "item_no = 1\n",
    "for item in items:\n",
    "    product = item[\"product\"]\n",
    "    price = item[\"price\"]\n",
    "    qty = item[\"qty\"]\n",
    "    print(f\"{item_no}. {product}: Rp.{price}\")\n",
    "    print(f\"      qty: {qty}\")\n",
    "    print(f\"                     subtotal: Rp.{price * qty}\")\n",
    "    print(\"-------------------------------------------\")\n",
    "    item_no += 1\n",
    "print(f\"                        subtotal: Rp.{subtotal}\" )\n",
    "print(f\"                        total discount: Rp.{diskon} (-)\" )\n",
    "print(f\"                        pajak: Rp.{pajak}\" )\n",
    "print(f\"                        grand total: Rp.{total}\" )"
   ]
  },
  {
   "cell_type": "code",
   "execution_count": null,
   "id": "a2982c9e-69eb-4098-ab8e-94fc3937ae28",
   "metadata": {},
   "outputs": [],
   "source": []
  }
 ],
 "metadata": {
  "kernelspec": {
   "display_name": "Python 3 (ipykernel)",
   "language": "python",
   "name": "python3"
  },
  "language_info": {
   "codemirror_mode": {
    "name": "ipython",
    "version": 3
   },
   "file_extension": ".py",
   "mimetype": "text/x-python",
   "name": "python",
   "nbconvert_exporter": "python",
   "pygments_lexer": "ipython3",
   "version": "3.9.13"
  }
 },
 "nbformat": 4,
 "nbformat_minor": 5
}
