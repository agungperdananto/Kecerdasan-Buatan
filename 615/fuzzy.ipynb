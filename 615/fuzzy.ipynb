{
 "cells": [
  {
   "cell_type": "markdown",
   "id": "d0686770-ef54-42a7-830b-fa34cb110d7f",
   "metadata": {},
   "source": [
    "## Fuzzy Inference System\n"
   ]
  },
  {
   "cell_type": "markdown",
   "id": "19fa7a5d-5e60-4cdf-bef2-60d8262d85c4",
   "metadata": {},
   "source": [
    "<img src=\"images/image-1.png\"/>\n"
   ]
  },
  {
   "cell_type": "markdown",
   "id": "da8e8deb-7b28-46cd-a697-0982d7e2545f",
   "metadata": {},
   "source": [
    "<img src=\"images/image-2.png\"/>"
   ]
  },
  {
   "cell_type": "markdown",
   "id": "ecba6a85-a8b6-452b-b00f-760c40e85641",
   "metadata": {},
   "source": [
    "<img src=\"images/image-3.png\"/>"
   ]
  },
  {
   "cell_type": "markdown",
   "id": "b372c1ff-b2f5-49db-9b2c-05d41b42c840",
   "metadata": {},
   "source": [
    "<img src=\"images/image-4.png\"/>"
   ]
  },
  {
   "cell_type": "markdown",
   "id": "d57c35b0-4d4d-4103-b5f7-54d7c272f45c",
   "metadata": {},
   "source": [
    "<img src=\"images/image-4.png\"/>"
   ]
  },
  {
   "cell_type": "markdown",
   "id": "dd6b7224-b77a-452a-9d8f-34bad832029a",
   "metadata": {},
   "source": [
    "<img src=\"images/image-4.png\"/>\n"
   ]
  },
  {
   "cell_type": "markdown",
   "id": "81d311b2-ed78-4508-ad63-10dbb0300be8",
   "metadata": {},
   "source": [
    "<img src=\"images/image-5.png\"/>"
   ]
  },
  {
   "cell_type": "markdown",
   "id": "96d1a41b-60d6-4490-94cd-d79f55c1f3f5",
   "metadata": {},
   "source": []
  },
  {
   "cell_type": "code",
   "execution_count": 2,
   "id": "957f32d9-9a4f-4440-9cc2-4949079daef1",
   "metadata": {},
   "outputs": [],
   "source": [
    "# Permintaan = demand (inc, dec)\n",
    "# Persediaan = stock (aLittle, aLot)\n",
    "# Produksi  = production (add, reduce)\n",
    "\n",
    "demand = {\n",
    "    'decrease': {0: 1, 1000: 1, 5000: 0, 6000: 0}, # turun\n",
    "    'increase': {0:0, 1000: 0, 5000: 1, 9000: 0} # naik\n",
    "}\n",
    "stock = {\n",
    "    'a_little': {100: 1, 600: 0}, # sedikit\n",
    "    'a_lot': {100: 0, 600: 1} # banyak\n",
    "}\n",
    "production = {\n",
    "    'reduce': {2000: 1, 7000: 0}, # mengurangi\n",
    "    'add': {2000: 0, 7000: 1} # menambah\n",
    "}"
   ]
  },
  {
   "cell_type": "code",
   "execution_count": 3,
   "id": "ed883c4b-bc4c-4a72-a9b4-2dfbe7aaaac9",
   "metadata": {},
   "outputs": [],
   "source": [
    "import matplotlib.pyplot as plt"
   ]
  },
  {
   "cell_type": "code",
   "execution_count": 7,
   "id": "fdf15afd-4741-44ae-9cdc-6716e9400e52",
   "metadata": {},
   "outputs": [
    {
     "data": {
      "image/png": "[encoded data removed]",
      "text/plain": [
       "<Figure size 640x480 with 1 Axes>"
      ]
     },
     "metadata": {},
     "output_type": "display_data"
    }
   ],
   "source": [
    "\n",
    "\n",
    "plt.plot(demand['decrease'].keys(), demand['decrease'].values(), label='turun')\n",
    "plt.plot(demand['increase'].keys(), demand['increase'].values(),label='naik')\n",
    "\n",
    "plt.legend()\n",
    "plt.show()"
   ]
  },
  {
   "cell_type": "code",
   "execution_count": 9,
   "id": "51a5631c-e934-4724-8068-fb9f91949a34",
   "metadata": {},
   "outputs": [],
   "source": [
    "class BaseFuzzy():\n",
    "    def __init__(self):\n",
    "        self.max_value = 0\n",
    "        self.min_value = 0\n",
    "        \n",
    "    def down(self, x):\n",
    "        return (self.max_value - x)/(self.max_value - self.min_value)\n",
    "        \n",
    "    def up(self, x):\n",
    "        return (x - self.min_value)/(self.max_value - self.min_value)\n",
    "        \n",
    "    def rev_down(self, f):\n",
    "        return self.max_value - f * (self.max_value - self.min_value)\n",
    "        \n",
    "    def rev_up(self, f):\n",
    "        return f * (self.max_value - self.min_value) + self.min_value\n",
    "    "
   ]
  },
  {
   "cell_type": "code",
   "execution_count": 100,
   "id": "53f5c141-b523-4205-9346-0210f7deddad",
   "metadata": {},
   "outputs": [],
   "source": [
    "fuzzy = BaseFuzzy()\n",
    "fuzzy.min_value = 1000\n",
    "fuzzy.max_value = 5000\n",
    "x = 4000"
   ]
  },
  {
   "cell_type": "code",
   "execution_count": 102,
   "id": "00ca5219-927e-4b9d-88fd-2071ce387bde",
   "metadata": {},
   "outputs": [
    {
     "data": {
      "text/plain": [
       "0.75"
      ]
     },
     "execution_count": 102,
     "metadata": {},
     "output_type": "execute_result"
    }
   ],
   "source": [
    "fuzzy.up(x)"
   ]
  },
  {
   "cell_type": "code",
   "execution_count": 97,
   "id": "e5d9cd2d-d1eb-4808-b433-5e91e9eaf95d",
   "metadata": {},
   "outputs": [],
   "source": [
    "fuzzy.min_value = 100\n",
    "fuzzy.max_value = 600\n",
    "x = 300"
   ]
  },
  {
   "cell_type": "code",
   "execution_count": 99,
   "id": "0978d627-d85b-4d8d-97c4-161f356c80db",
   "metadata": {},
   "outputs": [
    {
     "data": {
      "text/plain": [
       "0.6"
      ]
     },
     "execution_count": 99,
     "metadata": {},
     "output_type": "execute_result"
    }
   ],
   "source": [
    "fuzzy.down(x)"
   ]
  },
  {
   "cell_type": "code",
   "execution_count": 82,
   "id": "6530501d-bbbf-4f4a-a1b8-26fe994d36e9",
   "metadata": {},
   "outputs": [],
   "source": [
    "fuzzy = BaseFuzzy()\n",
    "fuzzy.min_value = 2000\n",
    "fuzzy.max_value = 7000\n",
    "p = 0.6"
   ]
  },
  {
   "cell_type": "code",
   "execution_count": 83,
   "id": "f8643a6b-a04e-4e2c-9a30-26f70d61972e",
   "metadata": {},
   "outputs": [
    {
     "data": {
      "text/plain": [
       "5000.0"
      ]
     },
     "execution_count": 83,
     "metadata": {},
     "output_type": "execute_result"
    }
   ],
   "source": [
    "fuzzy.rev_up(p)"
   ]
  },
  {
   "cell_type": "code",
   "execution_count": 10,
   "id": "5d1b03de-8e3f-48e0-ae2a-098b08bdb392",
   "metadata": {},
   "outputs": [],
   "source": [
    "# Permintaan\n",
    "\n",
    "class Demand(BaseFuzzy):\n",
    "\n",
    "    def __init__(self):\n",
    "        self.min_value = 1000\n",
    "        self.max_value = 5000\n",
    "        self.x = 0\n",
    "    def decrease(self):\n",
    "        if self.x <= self.min_value:\n",
    "            return 1\n",
    "        elif self.x >= self.max_value:\n",
    "            return 0\n",
    "        else:\n",
    "            return self.down(self.x)\n",
    "            \n",
    "    def increase(self):\n",
    "        if self.x <= self.min_value:\n",
    "            return 0\n",
    "        elif self.x >= self.max_value:\n",
    "            return 1\n",
    "        else:\n",
    "            return self.up(self.x)"
   ]
  },
  {
   "cell_type": "code",
   "execution_count": 103,
   "id": "2ee6912b-a603-4391-b7bd-53852030950a",
   "metadata": {},
   "outputs": [
    {
     "name": "stdout",
     "output_type": "stream",
     "text": [
      "turun 0.25\n",
      "naik 0.75\n"
     ]
    }
   ],
   "source": [
    "demand = Demand()\n",
    "demand.x = 4000\n",
    "\n",
    "print('turun', demand.decrease())\n",
    "print('naik', demand.increase())"
   ]
  },
  {
   "cell_type": "code",
   "execution_count": 11,
   "id": "4f6fa9b8-fc23-4c7c-b4b0-06326bc0804a",
   "metadata": {},
   "outputs": [],
   "source": [
    "# Persediaan\n",
    "\n",
    "class Stock(BaseFuzzy):\n",
    "\n",
    "    def __init__(self):\n",
    "        self.min_value = 100\n",
    "        self.max_value = 600\n",
    "\n",
    "    def a_little(self):\n",
    "        if self.x <= self.min_value:\n",
    "            return 1\n",
    "        elif self.x >= self.max_value:\n",
    "            return 0\n",
    "        else:\n",
    "            return self.down(self.x)\n",
    "            \n",
    "    def a_lot(self):\n",
    "        if self.x <= self.min_value:\n",
    "            return 0\n",
    "        elif self.x >= self.max_value:\n",
    "            return 1\n",
    "        else:\n",
    "            return self.up(self.x)"
   ]
  },
  {
   "cell_type": "code",
   "execution_count": 86,
   "id": "a2debae1-14cb-461f-84aa-ff10c3c2accb",
   "metadata": {},
   "outputs": [
    {
     "name": "stdout",
     "output_type": "stream",
     "text": [
      "sedikit 0.6\n",
      "banyak 0.4\n"
     ]
    }
   ],
   "source": [
    "stock = Stock()\n",
    "stock.x = 300\n",
    "print('sedikit', stock.a_little())\n",
    "print('banyak', stock.a_lot())"
   ]
  },
  {
   "cell_type": "code",
   "execution_count": 12,
   "id": "235d989c-586f-4c60-8bda-9f3af1ed1b2f",
   "metadata": {},
   "outputs": [],
   "source": [
    "# Produksi\n",
    "\n",
    "class Production(BaseFuzzy):\n",
    "\n",
    "    def __init__(self):\n",
    "        self.min_value = 2000\n",
    "        self.max_value = 7000\n",
    "        self.r = 0\n",
    "    def rev_reduce(self):\n",
    "        return self.rev_down(self.r)\n",
    "    def rev_add(self):\n",
    "        return self.rev_up(self.r)"
   ]
  },
  {
   "cell_type": "code",
   "execution_count": 126,
   "id": "8378c06d-ef0a-493a-880a-02c74e21221c",
   "metadata": {},
   "outputs": [
    {
     "name": "stdout",
     "output_type": "stream",
     "text": [
      "berkurang 5750.0\n",
      "bertambah 5000.0\n"
     ]
    }
   ],
   "source": [
    "prod = Production()\n",
    "prod.f = 0.25\n",
    "print('berkurang', prod.rev_reduce()) # 5750\n",
    "prod.f = 0.6\n",
    "print('bertambah', prod.rev_add()) # 5000"
   ]
  },
  {
   "cell_type": "code",
   "execution_count": 42,
   "id": "99cb6dfe-b779-418a-b5d4-eb133d4d7fb4",
   "metadata": {},
   "outputs": [
    {
     "data": {
      "text/plain": [
       "{('decrease', 'a_lot'): 'reduce',\n",
       " ('decrease', 'a_little'): 'add',\n",
       " ('increase', 'a_lot'): 'add',\n",
       " ('increase', 'a_little'): 'add'}"
      ]
     },
     "execution_count": 42,
     "metadata": {},
     "output_type": "execute_result"
    }
   ],
   "source": [
    "# Implementasi Rule\n",
    "# demand, stock: production\n",
    "rule = {\n",
    "    ('decrease','a_lot'): 'reduce', #rule 1\n",
    "    ('decrease','a_little'): 'add', # rule 2\n",
    "    ('increase','a_lot'): 'add', # rule 3\n",
    "    ('increase', 'a_little'): 'add' # rule 4\n",
    "}\n",
    "rule"
   ]
  },
  {
   "cell_type": "code",
   "execution_count": 16,
   "id": "e7927f4a-2f7f-4cde-8133-7f9e22dd502f",
   "metadata": {},
   "outputs": [
    {
     "data": {
      "text/plain": [
       "'reduce'"
      ]
     },
     "execution_count": 16,
     "metadata": {},
     "output_type": "execute_result"
    }
   ],
   "source": [
    "rule['decrease','a_lot']"
   ]
  },
  {
   "cell_type": "code",
   "execution_count": 17,
   "id": "b9023a90-85a5-4e42-bde3-35f01dd73bea",
   "metadata": {},
   "outputs": [
    {
     "name": "stdout",
     "output_type": "stream",
     "text": [
      "rule 1 permintaan: 0.25, persediaan: 0.4 >> produksi: 5750.0\n",
      "rule 2 permintaan: 0.25, persediaan: 0.6 >> produksi: 5750.0\n",
      "rule 3 permintaan: 0.75, persediaan: 0.4 >> produksi: 4000.0\n",
      "rule 4 permintaan: 0.75, persediaan: 0.6 >> produksi: 5000.0\n",
      "Jadi, jumlah makanan jenis ABC yang harus diproduksi sebanyak 4983 kemasan.\n"
     ]
    }
   ],
   "source": [
    "demand = Demand()\n",
    "stock = Stock()\n",
    "prod = Production()\n",
    "demand.x = 4000\n",
    "stock.x = 300\n",
    "idx = 1\n",
    "\n",
    "fuzzy_real = 0\n",
    "fuzzy = 0\n",
    "for k, v in rule.items():\n",
    "    if k[0] == 'decrease':\n",
    "        demand_fuzzy = demand.decrease()\n",
    "    else:\n",
    "        demand_fuzzy = demand.increase()\n",
    "    \n",
    "    if k[1] == 'a_little':\n",
    "        stock_fuzzy = stock.a_little()\n",
    "    else:\n",
    "        stock_fuzzy = stock.a_lot()\n",
    "    \n",
    "    fuzzy_prod = min(demand_fuzzy, stock_fuzzy)\n",
    "    prod.r = fuzzy_prod\n",
    "    if v == 'reduce':\n",
    "        real_prod = prod.rev_reduce()\n",
    "    else: \n",
    "        real_prod = prod.rev_add()\n",
    "        \n",
    "    fuzzy_real += fuzzy_prod * real_prod\n",
    "    fuzzy += fuzzy_prod\n",
    "\n",
    "    print(f'rule {idx} permintaan: {demand_fuzzy}, persediaan: {stock_fuzzy} >> produksi: {real_prod}')\n",
    "    idx += 1\n",
    "final_result = int(fuzzy_real/fuzzy)\n",
    "\n",
    "print(f'Jadi, jumlah makanan jenis ABC yang harus diproduksi sebanyak {final_result} kemasan.')"
   ]
  },
  {
   "cell_type": "code",
   "execution_count": 43,
   "id": "1c663fd6-4076-4632-8136-f7c20c9cec8f",
   "metadata": {},
   "outputs": [],
   "source": [
    "def process_data(x_demand, x_stock, demand=Demand(), stock=Stock(), production=Production()):\n",
    "    demand.x = x_demand\n",
    "    stock.x = x_stock\n",
    "    idx = 1\n",
    "\n",
    "    fuzzy_real = 0\n",
    "    fuzzy = 0\n",
    "    \n",
    "    for k, v in rule.items():\n",
    "        logic_map = {\n",
    "                \"demand\": {\n",
    "                    \"decrease\": demand.decrease(),\n",
    "                    \"increase\": demand.increase()\n",
    "                },\n",
    "                \"stock\": {\n",
    "                    \"a_little\": stock.a_little(),\n",
    "                    \"a_lot\": stock.a_lot()\n",
    "                }\n",
    "            }\n",
    "        demand_item = k[0]\n",
    "        stock_item = k[1]\n",
    "        prod_item = v\n",
    "\n",
    "        demand_fuzzy = logic_map[\"demand\"][demand_item]\n",
    "        stock_fuzzy = logic_map[\"stock\"][stock_item]\n",
    "        fuzzy_prod = min(demand_fuzzy, stock_fuzzy)\n",
    "        \n",
    "        prod.r = fuzzy_prod\n",
    "        logic_map[\"production\"] = {\n",
    "                    \"reduce\": prod.rev_reduce(),\n",
    "                    \"add\": prod.rev_add()\n",
    "                }\n",
    "        real_prod =  logic_map[\"production\"][prod_item]\n",
    "            \n",
    "        fuzzy_real += fuzzy_prod * real_prod\n",
    "        fuzzy += fuzzy_prod\n",
    "    \n",
    "        print(f'rule {idx} permintaan: {demand_fuzzy}, persediaan: {stock_fuzzy} >> produksi: {real_prod}')\n",
    "        idx += 1\n",
    "    final_result = int(fuzzy_real/fuzzy)\n",
    "    \n",
    "    print(f'Jadi, jumlah makanan jenis ABC yang harus diproduksi sebanyak {final_result} kemasan.')"
   ]
  },
  {
   "cell_type": "code",
   "execution_count": 37,
   "id": "c5ac2501-bc49-44e1-8d6d-a0e801f29058",
   "metadata": {},
   "outputs": [
    {
     "name": "stdout",
     "output_type": "stream",
     "text": [
      "rule 1 permintaan: 0.25, persediaan: 0.4 >> produksi: 5750.0\n",
      "rule 2 permintaan: 0.25, persediaan: 0.6 >> produksi: 5750.0\n",
      "rule 3 permintaan: 0.75, persediaan: 0.4 >> produksi: 4000.0\n",
      "rule 4 permintaan: 0.75, persediaan: 0.6 >> produksi: 5000.0\n",
      "Jadi, jumlah makanan jenis ABC yang harus diproduksi sebanyak 4983 kemasan.\n"
     ]
    }
   ],
   "source": [
    "process_data(4000, 300)"
   ]
  },
  {
   "cell_type": "code",
   "execution_count": null,
   "id": "c08e2d92-c89e-40e5-bed1-62bd1fe1f4eb",
   "metadata": {},
   "outputs": [],
   "source": []
  },
  {
   "cell_type": "code",
   "execution_count": null,
   "id": "91ff8a7f-fa7d-4ecc-9d56-68d07419288b",
   "metadata": {},
   "outputs": [],
   "source": []
  },
  {
   "cell_type": "code",
   "execution_count": null,
   "id": "0bbae6ac-ad20-4aac-9c7f-5c272af079ae",
   "metadata": {},
   "outputs": [],
   "source": []
  },
  {
   "cell_type": "code",
   "execution_count": null,
   "id": "2249d6be-c587-4e9c-a74f-c7c2b0111801",
   "metadata": {},
   "outputs": [],
   "source": []
  }
 ],
 "metadata": {
  "kernelspec": {
   "display_name": "Python 3 (ipykernel)",
   "language": "python",
   "name": "python3"
  },
  "language_info": {
   "codemirror_mode": {
    "name": "ipython",
    "version": 3
   },
   "file_extension": ".py",
   "mimetype": "text/x-python",
   "name": "python",
   "nbconvert_exporter": "python",
   "pygments_lexer": "ipython3",
   "version": "3.9.13"
  }
 },
 "nbformat": 4,
 "nbformat_minor": 5
}
