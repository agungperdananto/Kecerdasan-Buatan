{
 "cells": [
  {
   "cell_type": "markdown",
   "id": "d0686770-ef54-42a7-830b-fa34cb110d7f",
   "metadata": {},
   "source": [
    "## Fuzzy Inference System\n"
   ]
  },
  {
   "cell_type": "markdown",
   "id": "19fa7a5d-5e60-4cdf-bef2-60d8262d85c4",
   "metadata": {},
   "source": [
    "<img src=\"images/image-1.png\"/>\n"
   ]
  },
  {
   "cell_type": "markdown",
   "id": "da8e8deb-7b28-46cd-a697-0982d7e2545f",
   "metadata": {},
   "source": [
    "<img src=\"images/image-2.png\"/>"
   ]
  },
  {
   "cell_type": "markdown",
   "id": "ecba6a85-a8b6-452b-b00f-760c40e85641",
   "metadata": {},
   "source": [
    "<img src=\"images/image-3.png\"/>"
   ]
  },
  {
   "cell_type": "markdown",
   "id": "b372c1ff-b2f5-49db-9b2c-05d41b42c840",
   "metadata": {},
   "source": [
    "<img src=\"images/image-4.png\"/>"
   ]
  },
  {
   "cell_type": "markdown",
   "id": "81d311b2-ed78-4508-ad63-10dbb0300be8",
   "metadata": {},
   "source": [
    "<img src=\"images/image-5.png\"/>"
   ]
  },
  {
   "cell_type": "markdown",
   "id": "96d1a41b-60d6-4490-94cd-d79f55c1f3f5",
   "metadata": {},
   "source": []
  },
  {
   "cell_type": "code",
   "execution_count": null,
   "id": "e5d9cd2d-d1eb-4808-b433-5e91e9eaf95d",
   "metadata": {},
   "outputs": [],
   "source": []
  }
 ],
 "metadata": {
  "kernelspec": {
   "display_name": "Python 3 (ipykernel)",
   "language": "python",
   "name": "python3"
  },
  "language_info": {
   "codemirror_mode": {
    "name": "ipython",
    "version": 3
   },
   "file_extension": ".py",
   "mimetype": "text/x-python",
   "name": "python",
   "nbconvert_exporter": "python",
   "pygments_lexer": "ipython3",
   "version": "3.9.13"
  }
 },
 "nbformat": 4,
 "nbformat_minor": 5
}
