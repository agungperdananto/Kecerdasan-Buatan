{
 "cells": [
  {
   "cell_type": "markdown",
   "id": "dbe82a07-cf49-4777-ac2f-c4be32bb1c1f",
   "metadata": {},
   "source": [
    "### Tipe Data Dictionary dan List\n",
    "\n",
    "\n",
    "<ul>\n",
    "    <li>test html</li>\n",
    "     <li>test list</li>\n",
    "    <b>\n",
    "     <li>test dictionary</li></b>\n",
    "</ul>"
   ]
  },
  {
   "cell_type": "code",
   "execution_count": 1,
   "id": "d22ee1ad-5afd-463b-afc9-e7ea2f420c4d",
   "metadata": {},
   "outputs": [],
   "source": [
    "trx = {\n",
    "    \"items\": [\n",
    "        {\n",
    "            \"product\": \"Aqua 500ml\",\n",
    "            \"price\": 5500,\n",
    "            \"qty\": 3\n",
    "        },\n",
    "        {\n",
    "            \"product\": \"Indomie goreng\",\n",
    "            \"price\": 3200,\n",
    "            \"qty\": 12\n",
    "        },\n",
    "        {\n",
    "            \"product\": \"Gula Pasir 1kg\",\n",
    "            \"price\": 17000,\n",
    "            \"qty\": 2\n",
    "        },\n",
    "    ],\n",
    "    \"discount\": 15,\n",
    "    \"tax\": 11\n",
    "}"
   ]
  },
  {
   "cell_type": "code",
   "execution_count": 48,
   "id": "222c68d6-49e0-4abf-97ca-c40decd6f0dc",
   "metadata": {},
   "outputs": [],
   "source": [
    "students = [\n",
    "    {\n",
    "        \"nim\": 2046363636,\n",
    "        \"nama\": \"Iwan\",\n",
    "        \"semester\": 6,\n",
    "        \"hasil\": [\n",
    "            {\n",
    "                \"mata_kuliah\": \"kecerdasan buatan\",\n",
    "                \"hadir\": 18,\n",
    "                \"sks\": 3,\n",
    "                \"nilai\":{\n",
    "                    \"tugas\": 75,\n",
    "                    \"uts\": 80,\n",
    "                    \"uas\": 77\n",
    "                }\n",
    "                \"total\": 70\n",
    "            },\n",
    "            {\n",
    "                \"mata_kuliah\": \"basis data 1\",\n",
    "                \"hadir\": 20,\n",
    "                \"sks\": 3,\n",
    "                \"nilai\":{\n",
    "                    \"tugas\": 80,\n",
    "                    \"uts\": 82,\n",
    "                    \"uas\": 67\n",
    "                }\n",
    "            },\n",
    "            {\n",
    "                \"mata_kuliah\": \"digital enterpreneur\",\n",
    "                \"hadir\": 14,\n",
    "                \"sks\": 2,\n",
    "                \"nilai\":{\n",
    "                    \"tugas\": 90,\n",
    "                    \"uts\": 82,\n",
    "                    \"uas\": 80\n",
    "                }\n",
    "            }\n",
    "            ]\n",
    "            },\n",
    "        {\n",
    "        \"nim\": 2046363777,\n",
    "        \"nama\": \"Saepulloh\",\n",
    "        \"semester\": 2,\n",
    "        \"hasil\": [\n",
    "            {\n",
    "                \"mata_kuliah\": \"algoritma & pemrogaman 1\",\n",
    "                \"hadir\": 20,\n",
    "                \"sks\": 3,\n",
    "                \"nilai\":{\n",
    "                    \"tugas\": 90,\n",
    "                    \"uts\": 80,\n",
    "                    \"uas\": 70\n",
    "                }\n",
    "            },\n",
    "            {\n",
    "                \"mata_kuliah\": \"kalkulus 1\",\n",
    "                \"hadir\": 21,\n",
    "                \"sks\": 3,\n",
    "                \"nilai\":{\n",
    "                    \"tugas\": 70,\n",
    "                    \"uts\": 60,\n",
    "                    \"uas\": 67,\n",
    "                }\n",
    "            },\n",
    "            {\n",
    "                \"mata_kuliah\": \"statistika dan probabilitas\",\n",
    "                \"hadir\": 13,\n",
    "                \"sks\": 2,\n",
    "                \"nilai\":{\n",
    "                    \"tugas\": 90,\n",
    "                    \"uts\": 70,\n",
    "                    \"uas\": 88\n",
    "                }\n",
    "            }\n",
    "                ]\n",
    "            } \n",
    "        ]"
   ]
  },
  {
   "cell_type": "code",
   "execution_count": 30,
   "id": "0777d087-6551-4504-b055-6682c49cac98",
   "metadata": {},
   "outputs": [
    {
     "name": "stdout",
     "output_type": "stream",
     "text": [
      "Di dalam data terdapat 2 data siswa yaitu:\n",
      "Iwan dan Saepulloh\n"
     ]
    }
   ],
   "source": [
    "siswa \n",
    "# Di dalam data terdapat 2 data siswa yaitu:\n",
    "# Iwan , Saepulloh\n",
    "\n",
    "jumlah = len(siswa)\n",
    "print(f\"Di dalam data terdapat {jumlah} data siswa yaitu:\")\n",
    "label = \"\"\n",
    "for s in siswa:\n",
    "    label = label + \" dan \" if label else label\n",
    "    label += s[\"nama\"]\n",
    "print(label)"
   ]
  },
  {
   "cell_type": "code",
   "execution_count": 46,
   "id": "b636d092-bfb8-495a-b3c2-bb2ba30791f5",
   "metadata": {},
   "outputs": [],
   "source": [
    "bobot_nilai = { \"hadir\": 10, \"tugas\": 20, \"uts\": 30, \"uas\":40 }\n",
    "def hitung_nilai(sks, hadir, tugas, uts, uas):\n",
    "    max_hadir = 0\n",
    "    if sks == 2:\n",
    "        max_hadir = 14\n",
    "    if sks == 3:\n",
    "        max_hadir = 21\n",
    "    if not max_hadir:\n",
    "        print(\"sks tidak valid\")\n",
    "        return\n",
    "    # hitung nilai\n",
    "    kehadiran = hadir/max_hadir * bobot_nilai[\"hadir\"]/100\n",
    "    tugas = tugas/100 * bobot_nilai[\"tugas\"]/100\n",
    "    uts = uts/100 * bobot_nilai[\"uts\"]/100\n",
    "    uas = uas/100 * bobot_nilai[\"uas\"]/100 \n",
    "    return round((kehadiran + tugas + uts + uas) * 100, 2)"
   ]
  },
  {
   "cell_type": "code",
   "execution_count": 47,
   "id": "ec96b353-6ca3-475a-94d0-214686570174",
   "metadata": {},
   "outputs": [
    {
     "name": "stdout",
     "output_type": "stream",
     "text": [
      "78.37\n",
      "76.92\n",
      "84.6\n",
      "79.52\n",
      "68.8\n",
      "83.49\n"
     ]
    }
   ],
   "source": [
    "for student in students: \n",
    "    for data in student[\"hasil\"]:\n",
    "        total_nilai = hitung_nilai(data[\"sks\"],data[\"hadir\"], data[\"nilai\"][\"tugas\"], data[\"nilai\"][\"uts\"], data[\"nilai\"][\"uas\"])\n",
    "        print(total_nilai)"
   ]
  },
  {
   "cell_type": "code",
   "execution_count": null,
   "id": "a3c85503-7f4d-4433-86d6-5a55875011eb",
   "metadata": {},
   "outputs": [],
   "source": []
  },
  {
   "cell_type": "code",
   "execution_count": null,
   "id": "ead9f726-9649-4358-bd2d-90e13f68feb8",
   "metadata": {},
   "outputs": [],
   "source": []
  },
  {
   "cell_type": "code",
   "execution_count": null,
   "id": "a972e368-dc69-4bae-93d2-3fa7824cda34",
   "metadata": {},
   "outputs": [],
   "source": []
  },
  {
   "cell_type": "code",
   "execution_count": null,
   "id": "51e78c3f-ffc5-4121-bce2-510c48e17de7",
   "metadata": {},
   "outputs": [],
   "source": []
  },
  {
   "cell_type": "code",
   "execution_count": null,
   "id": "79201231-353b-4b0e-8d81-f77150810c24",
   "metadata": {},
   "outputs": [],
   "source": []
  }
 ],
 "metadata": {
  "kernelspec": {
   "display_name": "Python 3 (ipykernel)",
   "language": "python",
   "name": "python3"
  },
  "language_info": {
   "codemirror_mode": {
    "name": "ipython",
    "version": 3
   },
   "file_extension": ".py",
   "mimetype": "text/x-python",
   "name": "python",
   "nbconvert_exporter": "python",
   "pygments_lexer": "ipython3",
   "version": "3.9.13"
  }
 },
 "nbformat": 4,
 "nbformat_minor": 5
}
