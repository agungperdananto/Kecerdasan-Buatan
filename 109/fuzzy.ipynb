{
 "cells": [
  {
   "cell_type": "markdown",
   "id": "f7acee0e-e5ab-4940-9e0d-cb169291f70c",
   "metadata": {},
   "source": [
    "## Fuzzy Inference System"
   ]
  },
  {
   "cell_type": "markdown",
   "id": "d1389104-9bbb-4594-b016-6dfe824e7161",
   "metadata": {},
   "source": [
    "<img src=\"images/image-1.png\"/>"
   ]
  },
  {
   "cell_type": "markdown",
   "id": "9f8a6033-7473-4933-b715-7aee82b9be41",
   "metadata": {},
   "source": [
    "<img src=\"images/image-2.png\"/>"
   ]
  },
  {
   "cell_type": "markdown",
   "id": "5e8b53d1-6db5-42f3-88de-1f9023299f3e",
   "metadata": {},
   "source": [
    "<img src=\"images/image-3.png\"/>"
   ]
  },
  {
   "cell_type": "markdown",
   "id": "594adcd4-afe7-4dec-a43f-9e86f67d0acf",
   "metadata": {},
   "source": [
    "<img src=\"images/image-4.png\"/>"
   ]
  },
  {
   "cell_type": "markdown",
   "id": "0c32d085-61a8-44c7-b8c6-e48a3e2dcb6d",
   "metadata": {},
   "source": [
    "<img src=\"images/image-5.png\"/>"
   ]
  },
  {
   "cell_type": "code",
   "execution_count": 10,
   "id": "9189ac5b-e6db-4feb-b0ed-97274ef0399b",
   "metadata": {},
   "outputs": [],
   "source": [
    "class Fuzzy():\n",
    "\n",
    "    def __init__(self):\n",
    "        self.min = 0\n",
    "        self.max = 0\n",
    "\n",
    "    def down(self, x):\n",
    "        return (self.max - x) / (self.max - self.min)\n",
    "\n",
    "    def up(self, x):\n",
    "        return (x - self.min) / (self.max - self.min)\n",
    "\n",
    "    def rev_down(self, fuzzy_value):\n",
    "        return self.max - fuzzy_value * (self.max - self.min)\n",
    "\n",
    "    def rev_up(self, fuzzy_value):\n",
    "        return fuzzy_value * (self.max - self.min) + self.min\n",
    "\n",
    "# down\n",
    "# fuzzy_value = (max - x) / (max - min)\n",
    "# fuzzy_value * (max - min) = max - x\n",
    "# fuzzy_value * (max - min) - max = -x\n",
    "# -x = fuzzy_value * (max - min) - max\n",
    "# x = max - fuzzy_value * (max - min)\n",
    "\n",
    "# up\n",
    "# fuzzy_value = (x - min) / (max - min)\n",
    "# fuzzy_value * (max - min) = x - min\n",
    "# fuzzy_value * (max - min) + min = x\n",
    "# x = fuzzy_value * (max - min) + min\n",
    "    \n"
   ]
  },
  {
   "cell_type": "code",
   "execution_count": 5,
   "id": "f023d589-5825-4875-87f1-bb7014bb2fe2",
   "metadata": {},
   "outputs": [
    {
     "name": "stdout",
     "output_type": "stream",
     "text": [
      "Himpunan turun: 0.25\n",
      "Himpunan naik: 0.75\n"
     ]
    }
   ],
   "source": [
    "# Permintaan\n",
    "# himpunan Turun/Naik\n",
    "fis = Fuzzy()\n",
    "fis.min = 1000\n",
    "fis.max = 5000\n",
    "x = 4000\n",
    "\n",
    "turun = fis.down(x)\n",
    "print(f\"Himpunan turun: {turun}\")\n",
    "\n",
    "naik = fis.up(x)\n",
    "print(f\"Himpunan naik: {naik}\")"
   ]
  },
  {
   "cell_type": "code",
   "execution_count": 7,
   "id": "221cb247-6638-40fe-9744-309f0e1238ea",
   "metadata": {},
   "outputs": [
    {
     "name": "stdout",
     "output_type": "stream",
     "text": [
      "Himpunan sedikit: 0.6\n",
      "Himpunan banyak: 0.4\n"
     ]
    }
   ],
   "source": [
    "# Persediaan\n",
    "# himpunan sedikit/ banyak\n",
    "fis = Fuzzy()\n",
    "fis.min = 100\n",
    "fis.max = 600\n",
    "x = 300\n",
    "\n",
    "sedikit = fis.down(x)\n",
    "print(f\"Himpunan sedikit: {sedikit}\")\n",
    "\n",
    "banyak = fis.up(x)\n",
    "print(f\"Himpunan banyak: {banyak}\")"
   ]
  },
  {
   "cell_type": "code",
   "execution_count": 12,
   "id": "3729ac20-bf01-4528-b46b-a2afeb2f9970",
   "metadata": {},
   "outputs": [
    {
     "name": "stdout",
     "output_type": "stream",
     "text": [
      "Himp berkurang: 5750.0\n",
      "Himp bertambah: 4000.0\n",
      "Himp bertambah: 5000.0\n"
     ]
    }
   ],
   "source": [
    "# produksi\n",
    "# himpunan berkurang/bertambah\n",
    "fis = Fuzzy()\n",
    "# berkurang\n",
    "fis.min = 2000\n",
    "fis.max = 7000\n",
    "fuzzy_value = 0.25\n",
    "\n",
    "berkurang = fis.rev_down(fuzzy_value)\n",
    "print(f\"Himp berkurang: {berkurang}\")\n",
    "\n",
    "#Bertambah\n",
    "fuzzy_value = 0.4\n",
    "bertambah = fis.rev_up(fuzzy_value)\n",
    "print(f\"Himp bertambah: {bertambah}\")\n",
    "\n",
    "fuzzy_value = 0.6\n",
    "bertambah = fis.rev_up(fuzzy_value)\n",
    "print(f\"Himp bertambah: {bertambah}\")"
   ]
  },
  {
   "cell_type": "code",
   "execution_count": null,
   "id": "55cfbc09-d3b7-4b32-af50-a4b48444b524",
   "metadata": {},
   "outputs": [],
   "source": [
    "# Permintaan = Demand\n",
    "# turun = decrease\n",
    "# naik = increase\n",
    "# Persediaan = Stock\n",
    "# sedikit = a_few\n",
    "# banyak = a_lot\n",
    "# Produksi = Production\n",
    "# berkurang = reduce\n",
    "# bertambah = add"
   ]
  },
  {
   "cell_type": "code",
   "execution_count": 13,
   "id": "27227be0-ec11-4116-867a-24eef5b3eb82",
   "metadata": {},
   "outputs": [],
   "source": [
    "class Demand(Fuzzy):\n",
    "\n",
    "    def __init__(self):\n",
    "        self.min = 1000\n",
    "        self.max = 5000\n",
    "\n",
    "    def decrease(self, x):\n",
    "        pass\n",
    "\n",
    "    def increase(self, x):\n",
    "        pass\n",
    "\n",
    "class Stock(Fuzzy):\n",
    "\n",
    "    def __init__(self):\n",
    "        self.min = 100\n",
    "        self.max = 600\n",
    "\n",
    "    def a_few(self, x):\n",
    "        pass\n",
    "\n",
    "    def a_lot(self, x):\n",
    "        pass"
   ]
  },
  {
   "cell_type": "code",
   "execution_count": null,
   "id": "367b5872-d43b-436f-a824-0d1218df36e1",
   "metadata": {},
   "outputs": [],
   "source": []
  },
  {
   "cell_type": "code",
   "execution_count": null,
   "id": "ffa54316-79a2-4f8e-be2d-b8ec6bac700a",
   "metadata": {},
   "outputs": [],
   "source": []
  },
  {
   "cell_type": "code",
   "execution_count": null,
   "id": "e3964a6d-e5fc-4291-b05d-1d5e103f7354",
   "metadata": {},
   "outputs": [],
   "source": []
  }
 ],
 "metadata": {
  "kernelspec": {
   "display_name": "Python 3 (ipykernel)",
   "language": "python",
   "name": "python3"
  },
  "language_info": {
   "codemirror_mode": {
    "name": "ipython",
    "version": 3
   },
   "file_extension": ".py",
   "mimetype": "text/x-python",
   "name": "python",
   "nbconvert_exporter": "python",
   "pygments_lexer": "ipython3",
   "version": "3.9.13"
  }
 },
 "nbformat": 4,
 "nbformat_minor": 5
}
