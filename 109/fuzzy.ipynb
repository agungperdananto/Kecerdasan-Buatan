{
 "cells": [
  {
   "cell_type": "markdown",
   "id": "f7acee0e-e5ab-4940-9e0d-cb169291f70c",
   "metadata": {},
   "source": [
    "## Fuzzy Inference System"
   ]
  },
  {
   "cell_type": "markdown",
   "id": "d1389104-9bbb-4594-b016-6dfe824e7161",
   "metadata": {},
   "source": [
    "<img src=\"images/image-1.png\"/>"
   ]
  },
  {
   "cell_type": "markdown",
   "id": "9f8a6033-7473-4933-b715-7aee82b9be41",
   "metadata": {},
   "source": [
    "<img src=\"images/image-2.png\"/>"
   ]
  },
  {
   "cell_type": "markdown",
   "id": "5e8b53d1-6db5-42f3-88de-1f9023299f3e",
   "metadata": {},
   "source": [
    "<img src=\"images/image-3.png\"/>"
   ]
  },
  {
   "cell_type": "markdown",
   "id": "594adcd4-afe7-4dec-a43f-9e86f67d0acf",
   "metadata": {},
   "source": [
    "<img src=\"images/image-4.png\"/>"
   ]
  },
  {
   "cell_type": "markdown",
   "id": "5d8ddb3d-80d5-44c6-a9ad-a55422feb66d",
   "metadata": {},
   "source": [
    "<img src=\"images/image-4.png\"/>"
   ]
  },
  {
   "cell_type": "markdown",
   "id": "0c32d085-61a8-44c7-b8c6-e48a3e2dcb6d",
   "metadata": {},
   "source": [
    "<img src=\"images/image-5.png\"/>"
   ]
  },
  {
   "cell_type": "code",
   "execution_count": 1,
   "id": "9189ac5b-e6db-4feb-b0ed-97274ef0399b",
   "metadata": {},
   "outputs": [],
   "source": [
    "class Fuzzy():\n",
    "\n",
    "    def __init__(self):\n",
    "        self.min = 0\n",
    "        self.max = 0\n",
    "\n",
    "    def down(self, x):\n",
    "        return (self.max - x) / (self.max - self.min)\n",
    "\n",
    "    def up(self, x):\n",
    "        return (x - self.min) / (self.max - self.min)\n",
    "\n",
    "    def rev_down(self, fuzzy_value):\n",
    "        return self.max - fuzzy_value * (self.max - self.min)\n",
    "\n",
    "    def rev_up(self, fuzzy_value):\n",
    "        return fuzzy_value * (self.max - self.min) + self.min\n",
    "\n",
    "# down\n",
    "# fuzzy_value = (max - x) / (max - min)\n",
    "# fuzzy_value * (max - min) = max - x\n",
    "# fuzzy_value * (max - min) - max = -x\n",
    "# -x = fuzzy_value * (max - min) - max\n",
    "# x = max - fuzzy_value * (max - min)\n",
    "\n",
    "# up\n",
    "# fuzzy_value = (x - min) / (max - min)\n",
    "# fuzzy_value * (max - min) = x - min\n",
    "# fuzzy_value * (max - min) + min = x\n",
    "# x = fuzzy_value * (max - min) + min\n",
    "    \n"
   ]
  },
  {
   "cell_type": "code",
   "execution_count": 2,
   "id": "f023d589-5825-4875-87f1-bb7014bb2fe2",
   "metadata": {},
   "outputs": [
    {
     "name": "stdout",
     "output_type": "stream",
     "text": [
      "Himpunan turun: 0.25\n",
      "Himpunan naik: 0.75\n"
     ]
    }
   ],
   "source": [
    "# Permintaan\n",
    "# himpunan Turun/Naik\n",
    "fis = Fuzzy()\n",
    "fis.min = 1000\n",
    "fis.max = 5000\n",
    "x = 4000\n",
    "\n",
    "turun = fis.down(x)\n",
    "print(f\"Himpunan turun: {turun}\")\n",
    "\n",
    "naik = fis.up(x)\n",
    "print(f\"Himpunan naik: {naik}\")"
   ]
  },
  {
   "cell_type": "code",
   "execution_count": 3,
   "id": "221cb247-6638-40fe-9744-309f0e1238ea",
   "metadata": {},
   "outputs": [
    {
     "name": "stdout",
     "output_type": "stream",
     "text": [
      "Himpunan sedikit: 0.6\n",
      "Himpunan banyak: 0.4\n"
     ]
    }
   ],
   "source": [
    "# Persediaan\n",
    "# himpunan sedikit/ banyak\n",
    "fis = Fuzzy()\n",
    "fis.min = 100\n",
    "fis.max = 600\n",
    "x = 300\n",
    "\n",
    "sedikit = fis.down(x)\n",
    "print(f\"Himpunan sedikit: {sedikit}\")\n",
    "\n",
    "banyak = fis.up(x)\n",
    "print(f\"Himpunan banyak: {banyak}\")"
   ]
  },
  {
   "cell_type": "code",
   "execution_count": 4,
   "id": "3729ac20-bf01-4528-b46b-a2afeb2f9970",
   "metadata": {},
   "outputs": [
    {
     "name": "stdout",
     "output_type": "stream",
     "text": [
      "Himp berkurang: 5750.0\n",
      "Himp bertambah: 4000.0\n",
      "Himp bertambah: 5000.0\n"
     ]
    }
   ],
   "source": [
    "# produksi\n",
    "# himpunan berkurang/bertambah\n",
    "fis = Fuzzy()\n",
    "# berkurang\n",
    "fis.min = 2000\n",
    "fis.max = 7000\n",
    "fuzzy_value = 0.25\n",
    "\n",
    "berkurang = fis.rev_down(fuzzy_value)\n",
    "print(f\"Himp berkurang: {berkurang}\")\n",
    "\n",
    "#Bertambah\n",
    "fuzzy_value = 0.4\n",
    "bertambah = fis.rev_up(fuzzy_value)\n",
    "print(f\"Himp bertambah: {bertambah}\")\n",
    "\n",
    "fuzzy_value = 0.6\n",
    "bertambah = fis.rev_up(fuzzy_value)\n",
    "print(f\"Himp bertambah: {bertambah}\")"
   ]
  },
  {
   "cell_type": "code",
   "execution_count": 5,
   "id": "55cfbc09-d3b7-4b32-af50-a4b48444b524",
   "metadata": {},
   "outputs": [],
   "source": [
    "# Permintaan = Demand\n",
    "# turun = decrease\n",
    "# naik = increase\n",
    "# Persediaan = Stock\n",
    "# sedikit = a_few\n",
    "# banyak = a_lot\n",
    "# Produksi = Production\n",
    "# berkurang = reduce\n",
    "# bertambah = add"
   ]
  },
  {
   "cell_type": "code",
   "execution_count": 15,
   "id": "27227be0-ec11-4116-867a-24eef5b3eb82",
   "metadata": {},
   "outputs": [],
   "source": [
    "# Variabel Input\n",
    "class Demand(Fuzzy):\n",
    "\n",
    "    def __init__(self):\n",
    "        self.min = 1000\n",
    "        self.max = 5000\n",
    "\n",
    "    def decrease(self, x):\n",
    "        if x < self.min:\n",
    "            return 1\n",
    "        if x > self.max:\n",
    "            return 0\n",
    "        return self.down(x)\n",
    "\n",
    "    def increase(self, x):\n",
    "        if x < self.min:\n",
    "            return 0\n",
    "        if x > self.max:\n",
    "            return 1\n",
    "        return self.up(x)\n",
    "\n",
    "\n",
    "class Stock(Fuzzy):\n",
    "\n",
    "    def __init__(self):\n",
    "        self.min = 100\n",
    "        self.max = 600\n",
    "\n",
    "    def a_few(self, x):\n",
    "        if x < self.min:\n",
    "            return 1\n",
    "        if x > self.max:\n",
    "            return 0\n",
    "        return self.down(x)\n",
    "\n",
    "    def a_lot(self, x):\n",
    "        if x < self.min:\n",
    "            return 0\n",
    "        if x > self.max:\n",
    "            return 1\n",
    "        return self.up(x)"
   ]
  },
  {
   "cell_type": "code",
   "execution_count": 12,
   "id": "367b5872-d43b-436f-a824-0d1218df36e1",
   "metadata": {},
   "outputs": [
    {
     "data": {
      "text/plain": [
       "0"
      ]
     },
     "execution_count": 12,
     "metadata": {},
     "output_type": "execute_result"
    }
   ],
   "source": [
    "pmt = Demand()\n",
    "pmt.increase(902)\n"
   ]
  },
  {
   "cell_type": "code",
   "execution_count": 19,
   "id": "ffa54316-79a2-4f8e-be2d-b8ec6bac700a",
   "metadata": {},
   "outputs": [],
   "source": [
    "# Variabel Output\n",
    "\n",
    "class Production(Fuzzy):\n",
    "\n",
    "    def __init__(self):\n",
    "        self.min = 2000\n",
    "        self.max = 7000\n",
    "\n",
    "    def reduce(self, fuzzy_value):\n",
    "        return self.rev_down(fuzzy_value)\n",
    "    def add(self, fuzzy_value):\n",
    "        return self.rev_up(fuzzy_value)\n",
    "    "
   ]
  },
  {
   "cell_type": "code",
   "execution_count": 26,
   "id": "e3964a6d-e5fc-4291-b05d-1d5e103f7354",
   "metadata": {},
   "outputs": [
    {
     "data": {
      "text/plain": [
       "2000"
      ]
     },
     "execution_count": 26,
     "metadata": {},
     "output_type": "execute_result"
    }
   ],
   "source": [
    "prod = Production()\n",
    "fuzzy_value = 1\n",
    "\n",
    "prod.reduce(fuzzy_value)"
   ]
  },
  {
   "cell_type": "code",
   "execution_count": 30,
   "id": "fe705c11-8801-433a-ab7a-c437c1f2c537",
   "metadata": {},
   "outputs": [
    {
     "data": {
      "text/plain": [
       "7000"
      ]
     },
     "execution_count": 30,
     "metadata": {},
     "output_type": "execute_result"
    }
   ],
   "source": [
    "fuzzy_value = 1\n",
    "prod.add(fuzzy_value)"
   ]
  },
  {
   "cell_type": "code",
   "execution_count": 43,
   "id": "95356179-731f-49e4-9dd4-7ed131c99169",
   "metadata": {},
   "outputs": [],
   "source": [
    "rule_map = {\n",
    "    (\"decrease\", \"a_lot\"): \"reduce\",\n",
    "    (\"decrease\", \"a_few\"): \"reduce\",\n",
    "    (\"increase\", \"a_lot\"): \"add\",\n",
    "    (\"increase\", \"a_few\"): \"add\"\n",
    "}"
   ]
  },
  {
   "cell_type": "code",
   "execution_count": 44,
   "id": "704a8a4b-cd2c-4818-b3ff-668a3328e4d0",
   "metadata": {},
   "outputs": [
    {
     "data": {
      "text/plain": [
       "'reduce'"
      ]
     },
     "execution_count": 44,
     "metadata": {},
     "output_type": "execute_result"
    }
   ],
   "source": [
    "rule_map[(\"decrease\", \"a_few\")]"
   ]
  },
  {
   "cell_type": "code",
   "execution_count": 51,
   "id": "039b6421-524d-4c6f-9f98-31a4af8dc7da",
   "metadata": {},
   "outputs": [
    {
     "name": "stdout",
     "output_type": "stream",
     "text": [
      "Jadi, jumlah makanan jenis ABC yang harus diproduksi sebanyak 4983 kemasan.\n"
     ]
    }
   ],
   "source": [
    "rule_num = 1\n",
    "real_fuzzy_sum = 0\n",
    "fuzzy_sum = 0\n",
    "for k,v in rule_map.items():\n",
    "    # print(f\"rule ke-{rule_num}\")\n",
    "    # print(f\"himpunan permintaan:{k[0]}\")\n",
    "    # print(f\"himpunan persediaan:{k[1]}\")\n",
    "    # print(f\"himpunan produksi:{v}\")\n",
    "    # rule_num +=1\n",
    "    demand_value = 4000\n",
    "    stock_value = 300\n",
    "    demand = Demand()\n",
    "    stock = Stock()\n",
    "    prod = Production()\n",
    "    fuzzy_demand = demand.decrease(demand_value) if k[0] == \"decrease\" else demand.increase(demand_value)\n",
    "    fuzzy_stock = stock.a_few(stock_value) if k[1] == \"a_few\" else stock.a_lot(stock_value)\n",
    "    fuzzy_prod = min(fuzzy_demand, fuzzy_stock)\n",
    "    # print(fuzzy_prod)\n",
    "    real_prod = prod.reduce(fuzzy_prod) if v == \"reduce\" else prod.add(fuzzy_prod)\n",
    "    # print(fuzzy_real)\n",
    "    real_fuzzy_sum += fuzzy_prod * real_prod\n",
    "    fuzzy_sum += fuzzy_prod\n",
    "\n",
    "result = int(real_fuzzy_sum / fuzzy_sum)\n",
    "\n",
    "print(f\"Jadi, jumlah makanan jenis ABC yang harus diproduksi sebanyak {result} kemasan.\")\n",
    "\n",
    "    "
   ]
  },
  {
   "cell_type": "code",
   "execution_count": null,
   "id": "f87f6dcd-4659-4d3b-9e8f-0b0cfb7cf606",
   "metadata": {},
   "outputs": [],
   "source": []
  },
  {
   "cell_type": "code",
   "execution_count": null,
   "id": "e3deca33-94c6-4c4a-9af5-cae77f6aa5c5",
   "metadata": {},
   "outputs": [],
   "source": []
  }
 ],
 "metadata": {
  "kernelspec": {
   "display_name": "Python 3 (ipykernel)",
   "language": "python",
   "name": "python3"
  },
  "language_info": {
   "codemirror_mode": {
    "name": "ipython",
    "version": 3
   },
   "file_extension": ".py",
   "mimetype": "text/x-python",
   "name": "python",
   "nbconvert_exporter": "python",
   "pygments_lexer": "ipython3",
   "version": "3.9.13"
  }
 },
 "nbformat": 4,
 "nbformat_minor": 5
}
