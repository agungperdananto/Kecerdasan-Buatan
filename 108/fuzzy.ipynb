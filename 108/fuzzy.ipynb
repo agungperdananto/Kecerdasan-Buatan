{
 "cells": [
  {
   "cell_type": "markdown",
   "id": "f7acee0e-e5ab-4940-9e0d-cb169291f70c",
   "metadata": {},
   "source": [
    "## Fuzzy Inference System"
   ]
  },
  {
   "cell_type": "markdown",
   "id": "d1389104-9bbb-4594-b016-6dfe824e7161",
   "metadata": {},
   "source": [
    "<img src=\"images/image-1.png\"/>"
   ]
  },
  {
   "cell_type": "markdown",
   "id": "9f8a6033-7473-4933-b715-7aee82b9be41",
   "metadata": {},
   "source": [
    "<img src=\"images/image-2.png\"/>"
   ]
  },
  {
   "cell_type": "markdown",
   "id": "5e8b53d1-6db5-42f3-88de-1f9023299f3e",
   "metadata": {},
   "source": [
    "<img src=\"images/image-3.png\"/>"
   ]
  },
  {
   "cell_type": "markdown",
   "id": "594adcd4-afe7-4dec-a43f-9e86f67d0acf",
   "metadata": {},
   "source": [
    "<img src=\"images/image-4.png\"/>"
   ]
  },
  {
   "cell_type": "markdown",
   "id": "0c32d085-61a8-44c7-b8c6-e48a3e2dcb6d",
   "metadata": {},
   "source": [
    "<img src=\"images/image-5.png\"/>"
   ]
  },
  {
   "cell_type": "code",
   "execution_count": 1,
   "id": "9189ac5b-e6db-4feb-b0ed-97274ef0399b",
   "metadata": {},
   "outputs": [],
   "source": [
    "class Fuzzy():\n",
    "\n",
    "    def __init__(self):\n",
    "        self.min = 0\n",
    "        self.max = 0\n",
    "\n",
    "    def down(self, x):\n",
    "        return (self.max - x) / (self.max - self.min)\n",
    "\n",
    "    def up(self, x):\n",
    "        return (x - self.min) / (self.max - self.min)\n",
    "\n",
    "    def rev_down(self, f):\n",
    "        return self.max - f * (self.max - self.min)\n",
    "\n",
    "    def rev_up(self, f):\n",
    "        return f * (self.max - self.min) + self.min\n",
    "# Down\n",
    "# f = (max - x) / (max - min)\n",
    "# f * (max - min) = max - x\n",
    "# f * (max - min) - max = -x\n",
    "# max - f * (max - min) = x\n",
    "# x = max - f * (max - min)\n",
    "\n",
    "# Up\n",
    "# f = (x - min) / (max - min)\n",
    "# f * (max - min) = x - min\n",
    "# f * (max - min) + min = x\n",
    "# x = f * (max - min) + min\n",
    "\n",
    "        "
   ]
  },
  {
   "cell_type": "code",
   "execution_count": 2,
   "id": "f023d589-5825-4875-87f1-bb7014bb2fe2",
   "metadata": {},
   "outputs": [
    {
     "name": "stdout",
     "output_type": "stream",
     "text": [
      "Turun: 0.25\n",
      "Naik: 0.75\n"
     ]
    }
   ],
   "source": [
    "# Permintaan\n",
    "# himp Turun / Naik\n",
    "fis = Fuzzy()\n",
    "fis.min = 1000\n",
    "fis.max = 5000\n",
    "x = 4000\n",
    "# Turun\n",
    "turun = fis.down(x)\n",
    "print(f\"Turun: {turun}\")\n",
    "\n",
    "# Turun\n",
    "naik = fis.up(x)\n",
    "print(f\"Naik: {naik}\")"
   ]
  },
  {
   "cell_type": "code",
   "execution_count": 3,
   "id": "d6fbd045-395e-497c-995d-0697d4f0aaa5",
   "metadata": {},
   "outputs": [
    {
     "name": "stdout",
     "output_type": "stream",
     "text": [
      "Sedikit: 0.6\n",
      "Banyak: 0.4\n"
     ]
    }
   ],
   "source": [
    "# Persediaan\n",
    "# himp Sedikit / Banyak\n",
    "fis = Fuzzy()\n",
    "fis.min = 100\n",
    "fis.max = 600\n",
    "x = 300\n",
    "\n",
    "# Sedikit\n",
    "sedikit = fis.down(x)\n",
    "print(f\"Sedikit: {sedikit}\")\n",
    "\n",
    "# Banyak\n",
    "banyak = fis.up(x)\n",
    "print(f\"Banyak: {banyak}\")"
   ]
  },
  {
   "cell_type": "code",
   "execution_count": 4,
   "id": "21dcfa77-cb78-438b-bf6f-5ad5e444cebe",
   "metadata": {},
   "outputs": [
    {
     "name": "stdout",
     "output_type": "stream",
     "text": [
      "berkurang(0.25): 5750.0\n",
      "bertambah(0.4): 4000.0\n",
      "bertambah(0.6): 5000.0\n"
     ]
    }
   ],
   "source": [
    "# Berkurang 0.25 >> 5750\n",
    "# Bertambah 0.4 >> 4000\n",
    "# Bertambah 0.5 >> 5000\n",
    "\n",
    "fis = Fuzzy()\n",
    "fis.min = 2000\n",
    "fis.max = 7000\n",
    "\n",
    "# Berkurang\n",
    "f = 0.25\n",
    "berkurang = fis.rev_down(f)\n",
    "print(f\"berkurang({f}): {berkurang}\")\n",
    "\n",
    "# Bertambah\n",
    "f = 0.4\n",
    "bertambah = fis.rev_up(f)\n",
    "print(f\"bertambah({f}): {bertambah}\")\n",
    "\n",
    "f = 0.6\n",
    "bertambah = fis.rev_up(f)\n",
    "print(f\"bertambah({f}): {bertambah}\")"
   ]
  },
  {
   "cell_type": "code",
   "execution_count": 5,
   "id": "4a48ceb0-4d6a-44d8-a27e-577aa618b156",
   "metadata": {},
   "outputs": [],
   "source": [
    "# Permintaan = Demand\n",
    "# turun = decrease\n",
    "# naik = increase\n",
    "# Persediaan = Stock\n",
    "# sedikit = a_few\n",
    "# banyak = a_lot\n",
    "# Produksi = Production\n",
    "# berkurang = reduce\n",
    "# bertambah = add"
   ]
  },
  {
   "cell_type": "code",
   "execution_count": 25,
   "id": "5a25150e-32c0-48ec-8ad7-3ac7e068307c",
   "metadata": {},
   "outputs": [],
   "source": [
    "class Demand(Fuzzy):\n",
    "\n",
    "    def __init__(self):\n",
    "        self.min = 1000\n",
    "        self.max = 5000\n",
    "\n",
    "    def decrease(self, x):\n",
    "        if x < self.min:\n",
    "            return 1\n",
    "\n",
    "        if x > self.max:\n",
    "            return 0\n",
    "\n",
    "        return self.down(x)\n",
    "\n",
    "    def increase(self, x):\n",
    "        if x < self.min:\n",
    "            return 0\n",
    "\n",
    "        if x > self.max:\n",
    "            return 1\n",
    "            \n",
    "        return self.up(x)\n",
    "\n",
    "class Stock(Fuzzy):\n",
    "\n",
    "    def __init__(self):\n",
    "        self.min = 100\n",
    "        self.max = 600\n",
    "\n",
    "    def a_few(self, x):\n",
    "        if x < self.min:\n",
    "            return 1\n",
    "\n",
    "        if x > self.max:\n",
    "            return 0\n",
    "\n",
    "        return self.down(x)\n",
    "    def a_lot(self, x):\n",
    "        if x < self.min:\n",
    "            return 0\n",
    "\n",
    "        if x > self.max:\n",
    "            return 1\n",
    "            \n",
    "        return self.up(x)\n",
    "\n",
    "class Production(Fuzzy):\n",
    "\n",
    "    def __init__(self):\n",
    "        self.min = 2000\n",
    "        self.max = 7000\n",
    "\n",
    "    def reduce(self, fuzzy_value):\n",
    "        return self.rev_down(fuzzy_value)\n",
    "\n",
    "    def add(self, fuzzy_value):\n",
    "        return self.rev_up(fuzzy_value)"
   ]
  },
  {
   "cell_type": "code",
   "execution_count": 17,
   "id": "d305181c-97d0-4901-84c2-8dc503be0c40",
   "metadata": {},
   "outputs": [
    {
     "data": {
      "text/plain": [
       "1.0"
      ]
     },
     "execution_count": 17,
     "metadata": {},
     "output_type": "execute_result"
    }
   ],
   "source": [
    "pmt = Demand()\n",
    "pmt.increase(5000)"
   ]
  },
  {
   "cell_type": "code",
   "execution_count": 24,
   "id": "ba84dabc-3b04-4f90-aae2-908c3dc9eafe",
   "metadata": {},
   "outputs": [
    {
     "data": {
      "text/plain": [
       "0.7"
      ]
     },
     "execution_count": 24,
     "metadata": {},
     "output_type": "execute_result"
    }
   ],
   "source": [
    "psd = Stock()\n",
    "psd.a_lot(450)"
   ]
  },
  {
   "cell_type": "code",
   "execution_count": 33,
   "id": "9d64490b-6829-4131-b378-7c1abd81f67b",
   "metadata": {},
   "outputs": [
    {
     "data": {
      "text/plain": [
       "5000.0"
      ]
     },
     "execution_count": 33,
     "metadata": {},
     "output_type": "execute_result"
    }
   ],
   "source": [
    "prod = Production()\n",
    "prod.add(0.6)"
   ]
  },
  {
   "cell_type": "code",
   "execution_count": 35,
   "id": "ce591bd6-f052-4db7-b814-ad9c9ae03406",
   "metadata": {},
   "outputs": [],
   "source": [
    "rule_mapping = {\n",
    "    (\"decrease\", \"a_lot\"): \"reduce\",\n",
    "    (\"decrease\", \"a_few\"): \"reduce\",\n",
    "    (\"increase\", \"a_lot\"): \"add\",\n",
    "    (\"increase\", \"a_few\"): \"add\",\n",
    "}"
   ]
  },
  {
   "cell_type": "code",
   "execution_count": 44,
   "id": "4f45a1ec-33b3-48c5-831b-04da61e6efa9",
   "metadata": {},
   "outputs": [
    {
     "name": "stdout",
     "output_type": "stream",
     "text": [
      "Jadi, jumlah makanan jenis ABC yang harus diproduksi sebanyak 4983 kemasan.\n"
     ]
    }
   ],
   "source": [
    "\n",
    "total_value = 0\n",
    "total_fuzzy = 0\n",
    "for k, v in rule_mapping.items():\n",
    "    # print(f\"{k[0]=}, {k[1]=}\")\n",
    "    # print(f\"{v=}\")\n",
    "    demand = Demand()\n",
    "    stock = Stock()\n",
    "    demand_value = 4000\n",
    "    stock_value = 300\n",
    "\n",
    "    fuzzy_demand = demand.decrease(demand_value) if k[0] == \"decrease\" else demand.increase(demand_value)\n",
    "    fuzzy_stock = stock.a_few(stock_value) if k[1] == \"a_few\" else stock.a_lot(stock_value)\n",
    "\n",
    "    prod = Production()\n",
    "    fuzzy_prod = min(fuzzy_demand, fuzzy_stock)\n",
    "    prod_value = prod.reduce(fuzzy_prod) if v == \"reduce\" else prod.add(fuzzy_prod)\n",
    "\n",
    "    total_value += fuzzy_prod * prod_value\n",
    "    total_fuzzy += fuzzy_prod\n",
    "\n",
    "result = int(total_value/ total_fuzzy)\n",
    "result\n",
    "print(f\"Jadi, jumlah makanan jenis ABC yang harus diproduksi sebanyak {result} kemasan.\")\n",
    "\n"
   ]
  },
  {
   "cell_type": "code",
   "execution_count": null,
   "id": "8440e9e4-1891-40b5-9043-df3de9df646f",
   "metadata": {},
   "outputs": [],
   "source": []
  },
  {
   "cell_type": "code",
   "execution_count": null,
   "id": "be22e10e-395c-4930-9b8e-4c03cb1ad7b6",
   "metadata": {},
   "outputs": [],
   "source": []
  },
  {
   "cell_type": "code",
   "execution_count": null,
   "id": "2489673c-f4b9-4abc-a75f-273091afdb38",
   "metadata": {},
   "outputs": [],
   "source": []
  },
  {
   "cell_type": "code",
   "execution_count": null,
   "id": "38d14999-b10b-4a54-88a1-0bbcec495a15",
   "metadata": {},
   "outputs": [],
   "source": []
  }
 ],
 "metadata": {
  "kernelspec": {
   "display_name": "Python 3 (ipykernel)",
   "language": "python",
   "name": "python3"
  },
  "language_info": {
   "codemirror_mode": {
    "name": "ipython",
    "version": 3
   },
   "file_extension": ".py",
   "mimetype": "text/x-python",
   "name": "python",
   "nbconvert_exporter": "python",
   "pygments_lexer": "ipython3",
   "version": "3.9.13"
  }
 },
 "nbformat": 4,
 "nbformat_minor": 5
}
