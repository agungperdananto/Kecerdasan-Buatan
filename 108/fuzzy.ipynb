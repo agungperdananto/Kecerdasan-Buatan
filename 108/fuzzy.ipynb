{
 "cells": [
  {
   "cell_type": "markdown",
   "id": "f7acee0e-e5ab-4940-9e0d-cb169291f70c",
   "metadata": {},
   "source": [
    "## Fuzzy Inference System"
   ]
  },
  {
   "cell_type": "markdown",
   "id": "d1389104-9bbb-4594-b016-6dfe824e7161",
   "metadata": {},
   "source": [
    "<img src=\"images/image-1.png\"/>"
   ]
  },
  {
   "cell_type": "markdown",
   "id": "9f8a6033-7473-4933-b715-7aee82b9be41",
   "metadata": {},
   "source": [
    "<img src=\"images/image-2.png\"/>"
   ]
  },
  {
   "cell_type": "markdown",
   "id": "5e8b53d1-6db5-42f3-88de-1f9023299f3e",
   "metadata": {},
   "source": [
    "<img src=\"images/image-3.png\"/>"
   ]
  },
  {
   "cell_type": "markdown",
   "id": "594adcd4-afe7-4dec-a43f-9e86f67d0acf",
   "metadata": {},
   "source": [
    "<img src=\"images/image-4.png\"/>"
   ]
  },
  {
   "cell_type": "markdown",
   "id": "0c32d085-61a8-44c7-b8c6-e48a3e2dcb6d",
   "metadata": {},
   "source": [
    "<img src=\"images/image-5.png\"/>"
   ]
  },
  {
   "cell_type": "code",
   "execution_count": null,
   "id": "9189ac5b-e6db-4feb-b0ed-97274ef0399b",
   "metadata": {},
   "outputs": [],
   "source": []
  },
  {
   "cell_type": "code",
   "execution_count": null,
   "id": "f023d589-5825-4875-87f1-bb7014bb2fe2",
   "metadata": {},
   "outputs": [],
   "source": []
  }
 ],
 "metadata": {
  "kernelspec": {
   "display_name": "Python 3 (ipykernel)",
   "language": "python",
   "name": "python3"
  },
  "language_info": {
   "codemirror_mode": {
    "name": "ipython",
    "version": 3
   },
   "file_extension": ".py",
   "mimetype": "text/x-python",
   "name": "python",
   "nbconvert_exporter": "python",
   "pygments_lexer": "ipython3",
   "version": "3.9.13"
  }
 },
 "nbformat": 4,
 "nbformat_minor": 5
}
