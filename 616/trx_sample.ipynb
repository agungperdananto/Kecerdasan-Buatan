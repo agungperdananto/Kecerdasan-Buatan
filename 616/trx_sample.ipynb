{
 "cells": [
  {
   "cell_type": "markdown",
   "id": "2075941f-44ea-4040-a12f-11af860e89d1",
   "metadata": {},
   "source": [
    "## Data List dan Dictionary\n",
    "### Transaction"
   ]
  },
  {
   "cell_type": "code",
   "execution_count": 2,
   "id": "34512a2b-39b8-42d8-990c-c295c28d04a6",
   "metadata": {},
   "outputs": [],
   "source": [
    "trx = {\n",
    "    \"discount\": 12,\n",
    "    \"disc_percentage\": True,\n",
    "    \"tax\": 2.5,\n",
    "    \"items\":[\n",
    "        {\n",
    "        \"product\": \"Gula pasir 1kg\",\n",
    "        \"price\": 10000,\n",
    "        \"qty\": 2\n",
    "        },\n",
    "        {\n",
    "        \"product\": \"Aqua 500 ml\",\n",
    "        \"price\": 5000,\n",
    "        \"qty\": 10\n",
    "        },\n",
    "        {\n",
    "        \"product\": \"Masako 50gr\",\n",
    "        \"price\": 1500,\n",
    "        \"qty\": 4\n",
    "        },\n",
    "        {\n",
    "        \"product\": \"Garam 500gr\",\n",
    "        \"price\": 8000,\n",
    "        \"qty\": 3\n",
    "        }\n",
    "    ]\n",
    "}"
   ]
  },
  {
   "cell_type": "code",
   "execution_count": 15,
   "id": "80f5bf0f-2fbd-4b8b-9930-3a7cc67de966",
   "metadata": {},
   "outputs": [
    {
     "name": "stdout",
     "output_type": "stream",
     "text": [
      "Total diskon untk produk: Aqua 500 ml, dengan nominal pembelanjaan Rp.50000 adalah Rp.6000.0\n"
     ]
    }
   ],
   "source": [
    "# discount_aqua\n",
    "product = trx[\"items\"][1][\"product\"]\n",
    "price = trx[\"items\"][1][\"price\"]\n",
    "qty = trx[\"items\"][1][\"qty\"]\n",
    "\n",
    "discount, percentage = trx[\"discount\"], trx[\"disc_percentage\"]\n",
    "\n",
    "aqua_total = price * qty\n",
    "total_dscount = discount * aqua_total /100 if percentage else discount\n",
    "\n",
    "print(f\"Total diskon untk produk: {product}, dengan nominal pembelanjaan Rp.{aqua_total} adalah Rp.{total_dscount}\")"
   ]
  },
  {
   "cell_type": "code",
   "execution_count": 16,
   "id": "1ae0f1ff-c8c9-4968-b2c7-c46cb9409c4a",
   "metadata": {},
   "outputs": [
    {
     "name": "stdout",
     "output_type": "stream",
     "text": [
      "Total diskon untk produk: Gula pasir 1kg, dengan nominal pembelanjaan Rp.20000 adalah Rp.2400.0\n",
      "Total diskon untk produk: Aqua 500 ml, dengan nominal pembelanjaan Rp.50000 adalah Rp.6000.0\n",
      "Total diskon untk produk: Masako 50gr, dengan nominal pembelanjaan Rp.6000 adalah Rp.720.0\n",
      "Total diskon untk produk: Garam 500gr, dengan nominal pembelanjaan Rp.24000 adalah Rp.2880.0\n"
     ]
    }
   ],
   "source": [
    "for item in trx[\"items\"]:\n",
    "    product = item[\"product\"]\n",
    "    price = item[\"price\"]\n",
    "    qty = item[\"qty\"]\n",
    "    discount, percentage = trx[\"discount\"], trx[\"disc_percentage\"]\n",
    "\n",
    "    subtotal = price * qty\n",
    "    total_dscount = discount * subtotal /100 if percentage else discount\n",
    "    \n",
    "    print(f\"Total diskon untk produk: {product}, dengan nominal pembelanjaan Rp.{subtotal} adalah Rp.{total_dscount}\")\n",
    "    "
   ]
  },
  {
   "cell_type": "markdown",
   "id": "056b62cd-d235-46b4-a148-50ad62d9649c",
   "metadata": {},
   "source": [
    "## https://github.com/agungperdananto/Kecerdasan-Buatan"
   ]
  },
  {
   "cell_type": "code",
   "execution_count": null,
   "id": "3b0c4cda-6fdd-4354-b8d6-db51e7d52490",
   "metadata": {},
   "outputs": [],
   "source": []
  },
  {
   "cell_type": "code",
   "execution_count": null,
   "id": "be4dc4f2-4d2f-4c8b-8aed-4604feda5ee0",
   "metadata": {},
   "outputs": [],
   "source": []
  },
  {
   "cell_type": "code",
   "execution_count": null,
   "id": "abe7bd63-0add-464c-bbe1-e09b52a9849e",
   "metadata": {},
   "outputs": [],
   "source": []
  },
  {
   "cell_type": "code",
   "execution_count": null,
   "id": "1a26989f-b499-456b-b074-deb828417cfa",
   "metadata": {},
   "outputs": [],
   "source": []
  },
  {
   "cell_type": "code",
   "execution_count": null,
   "id": "639b9a4d-44c3-42f3-97d7-ebacc30a8a2c",
   "metadata": {},
   "outputs": [],
   "source": []
  },
  {
   "cell_type": "code",
   "execution_count": null,
   "id": "7fd303a9-6d0c-4458-bf06-b31bde611731",
   "metadata": {},
   "outputs": [],
   "source": []
  },
  {
   "cell_type": "code",
   "execution_count": null,
   "id": "cd337e4a-1c5e-4920-93f2-8f1389144a2d",
   "metadata": {},
   "outputs": [],
   "source": []
  },
  {
   "cell_type": "code",
   "execution_count": null,
   "id": "a0f3e3c3-444d-40c1-9bb3-7b189c5e4d82",
   "metadata": {},
   "outputs": [],
   "source": []
  },
  {
   "cell_type": "code",
   "execution_count": null,
   "id": "cfe5408b-5901-4fb2-9d58-38c321dd80a7",
   "metadata": {},
   "outputs": [],
   "source": []
  }
 ],
 "metadata": {
  "kernelspec": {
   "display_name": "Python 3 (ipykernel)",
   "language": "python",
   "name": "python3"
  },
  "language_info": {
   "codemirror_mode": {
    "name": "ipython",
    "version": 3
   },
   "file_extension": ".py",
   "mimetype": "text/x-python",
   "name": "python",
   "nbconvert_exporter": "python",
   "pygments_lexer": "ipython3",
   "version": "3.9.13"
  }
 },
 "nbformat": 4,
 "nbformat_minor": 5
}
