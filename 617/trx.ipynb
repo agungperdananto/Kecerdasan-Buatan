{
 "cells": [
  {
   "cell_type": "markdown",
   "id": "acc29864-fb23-4071-a5ed-5cb0afb0e3f4",
   "metadata": {},
   "source": [
    "## Data List dan Dictionary\n",
    "### data transaksi"
   ]
  },
  {
   "cell_type": "code",
   "execution_count": 2,
   "id": "11f75c95-214e-489c-a7fb-c610b1b31258",
   "metadata": {},
   "outputs": [
    {
     "name": "stdout",
     "output_type": "stream",
     "text": [
      "{'discount': 12, 'disc_percentage': True, 'tax': 2.5, 'items': [{'product': 'Gula pasir 1kg', 'price': 10000, 'qty': 2}, {'product': 'Aqua 500 ml', 'price': 5000, 'qty': 10}, {'product': 'Masako 50gr', 'price': 1500, 'qty': 4}, {'product': 'Garam 500gr', 'price': 8000, 'qty': 3}]}\n"
     ]
    }
   ],
   "source": [
    "trx = {\n",
    "    \"discount\": 12,\n",
    "    \"disc_percentage\": True,\n",
    "    \"tax\": 2.5,\n",
    "    \"items\":[\n",
    "        {\n",
    "        \"product\": \"Gula pasir 1kg\",\n",
    "        \"price\": 10000,\n",
    "        \"qty\": 2\n",
    "        },\n",
    "        {\n",
    "        \"product\": \"Aqua 500 ml\",\n",
    "        \"price\": 5000,\n",
    "        \"qty\": 10\n",
    "        },\n",
    "        {\n",
    "        \"product\": \"Masako 50gr\",\n",
    "        \"price\": 1500,\n",
    "        \"qty\": 4\n",
    "        },\n",
    "        {\n",
    "        \"product\": \"Garam 500gr\",\n",
    "        \"price\": 8000,\n",
    "        \"qty\": 3\n",
    "        }\n",
    "    ]\n",
    "}\n",
    "print(trx)"
   ]
  },
  {
   "cell_type": "code",
   "execution_count": 18,
   "id": "534e54e4-0e25-48f3-85a0-748e0832866d",
   "metadata": {},
   "outputs": [
    {
     "name": "stdout",
     "output_type": "stream",
     "text": [
      "Nominal diskon untuk produk: Aqua 500 ml dengan total pembelian sebesar Rp.50000 adalah Rp.6000.0\n"
     ]
    }
   ],
   "source": [
    "# Diskon aqua brp\n",
    "nama_product = trx[\"items\"][1][\"product\"] \n",
    "price = trx[\"items\"][1][\"price\"] \n",
    "qty = trx[\"items\"][1][\"qty\"] \n",
    "\n",
    "subtotal = price * qty\n",
    "\n",
    "discount = trx[\"discount\"] * subtotal/100 if trx[\"disc_percentage\"] else discount\n",
    "\n",
    "print(f\"Nominal diskon untuk produk: {nama_product} dengan total pembelian sebesar Rp.{subtotal} adalah Rp.{discount}\")"
   ]
  },
  {
   "cell_type": "code",
   "execution_count": 19,
   "id": "e380b60b-f683-44c5-b631-c7dce4f658d1",
   "metadata": {},
   "outputs": [
    {
     "name": "stdout",
     "output_type": "stream",
     "text": [
      "Nominal diskon untuk produk: Gula pasir 1kg dengan total pembelian sebesar Rp.20000 adalah Rp.2400.0\n",
      "Nominal diskon untuk produk: Aqua 500 ml dengan total pembelian sebesar Rp.50000 adalah Rp.6000.0\n",
      "Nominal diskon untuk produk: Masako 50gr dengan total pembelian sebesar Rp.6000 adalah Rp.720.0\n",
      "Nominal diskon untuk produk: Garam 500gr dengan total pembelian sebesar Rp.24000 adalah Rp.2880.0\n"
     ]
    }
   ],
   "source": [
    "for item in trx[\"items\"]:\n",
    "    nama_product = item[\"product\"] \n",
    "    price = item[\"price\"] \n",
    "    qty = item[\"qty\"] \n",
    "    \n",
    "    subtotal = price * qty\n",
    "    \n",
    "    discount = trx[\"discount\"] * subtotal/100 if trx[\"disc_percentage\"] else discount\n",
    "    \n",
    "    print(f\"Nominal diskon untuk produk: {nama_product} dengan total pembelian sebesar Rp.{subtotal} adalah Rp.{discount}\")"
   ]
  },
  {
   "cell_type": "markdown",
   "id": "e5bb4383-0c0a-4f98-a8e3-4d6c5d84edf0",
   "metadata": {},
   "source": [
    "## https://github.com/agungperdananto/Kecerdasan-Buatan"
   ]
  },
  {
   "cell_type": "code",
   "execution_count": null,
   "id": "27eb5039-9906-4d28-bc1a-2efa6a53d256",
   "metadata": {},
   "outputs": [],
   "source": []
  },
  {
   "cell_type": "code",
   "execution_count": null,
   "id": "3699141e-eb14-459e-a515-0569c4164717",
   "metadata": {},
   "outputs": [],
   "source": []
  },
  {
   "cell_type": "code",
   "execution_count": null,
   "id": "d7cfc7fa-9c5a-40c5-9cbc-ef43377f42ff",
   "metadata": {},
   "outputs": [],
   "source": []
  },
  {
   "cell_type": "code",
   "execution_count": null,
   "id": "eb8cfe8e-9530-4484-9b8a-616c5d4d7376",
   "metadata": {},
   "outputs": [],
   "source": []
  },
  {
   "cell_type": "code",
   "execution_count": null,
   "id": "90e9cdc5-0dbe-4331-8381-e6dd8a6c8d37",
   "metadata": {},
   "outputs": [],
   "source": []
  },
  {
   "cell_type": "code",
   "execution_count": null,
   "id": "dd9a630e-d6e5-45ca-a3b2-d6ce43902309",
   "metadata": {},
   "outputs": [],
   "source": []
  },
  {
   "cell_type": "code",
   "execution_count": null,
   "id": "b6ea65bf-cb2e-4070-8789-1fd7862b893b",
   "metadata": {},
   "outputs": [],
   "source": []
  },
  {
   "cell_type": "code",
   "execution_count": null,
   "id": "92ff51be-88a6-42ca-981b-86c6e59be50e",
   "metadata": {},
   "outputs": [],
   "source": []
  },
  {
   "cell_type": "markdown",
   "id": "89bcca1b-4db8-4432-812f-a343444374a6",
   "metadata": {},
   "source": []
  }
 ],
 "metadata": {
  "kernelspec": {
   "display_name": "Python 3 (ipykernel)",
   "language": "python",
   "name": "python3"
  },
  "language_info": {
   "codemirror_mode": {
    "name": "ipython",
    "version": 3
   },
   "file_extension": ".py",
   "mimetype": "text/x-python",
   "name": "python",
   "nbconvert_exporter": "python",
   "pygments_lexer": "ipython3",
   "version": "3.9.13"
  }
 },
 "nbformat": 4,
 "nbformat_minor": 5
}
