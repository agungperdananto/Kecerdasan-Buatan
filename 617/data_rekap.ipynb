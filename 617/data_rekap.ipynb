{
 "cells": [
  {
   "cell_type": "code",
   "execution_count": 1,
   "id": "5e81eb09-ef9f-4e24-a2ed-da13ca4558b1",
   "metadata": {},
   "outputs": [],
   "source": [
    "data_rekap = [\n",
    "    {\n",
    "        \"tahun\": 1995,\n",
    "        \"penjualan\": 300,\n",
    "        \"operasional\": 150,\n",
    "        \"pajak\": 50,\n",
    "        \"pendapatan_lain\": 135\n",
    "    },\n",
    "    {\n",
    "        \"tahun\": 1997,\n",
    "        \"penjualan\": 320,\n",
    "        \"operasional\": 120,\n",
    "        \"pajak\": 65,\n",
    "        \"pendapatan_lain\": 105\n",
    "    },\n",
    "    {\n",
    "        \"tahun\": 1991,\n",
    "        \"penjualan\": 200,\n",
    "        \"operasional\": 75,\n",
    "        \"pajak\": 35,\n",
    "        \"pendapatan_lain\": 85\n",
    "    },\n",
    "    {\n",
    "        \"tahun\": 1992,\n",
    "        \"penjualan\": 320,\n",
    "        \"operasional\": 170,\n",
    "        \"pajak\": 80,\n",
    "        \"pendapatan_lain\": 235\n",
    "    },\n",
    "    {\n",
    "        \"tahun\": 2001,\n",
    "        \"penjualan\": 300,\n",
    "        \"operasional\": 150,\n",
    "        \"pajak\": 52,\n",
    "        \"pendapatan_lain\": 135\n",
    "    },\n",
    "    {\n",
    "        \"tahun\": 2003,\n",
    "        \"penjualan\": 500,\n",
    "        \"operasional\": 350,\n",
    "        \"pajak\": 110,\n",
    "        \"pendapatan_lain\": 55\n",
    "    },\n",
    "    {\n",
    "        \"tahun\": 2005,\n",
    "        \"penjualan\": 750,\n",
    "        \"operasional\": 450,\n",
    "        \"pajak\": 181,\n",
    "        \"pendapatan_lain\": 155\n",
    "    }\n",
    "]"
   ]
  },
  {
   "cell_type": "code",
   "execution_count": 11,
   "id": "ab9a9927-96d6-484b-b0f6-1935f0ac347f",
   "metadata": {},
   "outputs": [
    {
     "data": {
      "image/png": "[encoded data removed]",
      "text/plain": [
       "<Figure size 640x480 with 1 Axes>"
      ]
     },
     "metadata": {},
     "output_type": "display_data"
    }
   ],
   "source": [
    "import matplotlib.pyplot as plt\n",
    "\n",
    "x = [1, 2, 4, 7]\n",
    "y = [10, 12, 11, 14]\n",
    "\n",
    "plt.plot(x, y)\n",
    "plt.plot(x, [11,11,12, 8])\n",
    "plt.show()\n"
   ]
  },
  {
   "cell_type": "code",
   "execution_count": null,
   "id": "f08d1e3b-b7b0-4182-b50d-9ca8e36260af",
   "metadata": {},
   "outputs": [],
   "source": [
    "data_result = {\n",
    "    \"tahun\": [...],\n",
    "    \"penjualan\": [...]\n",
    "}"
   ]
  },
  {
   "cell_type": "code",
   "execution_count": null,
   "id": "0260e18d-3620-4d4a-b0d9-7ee6f7f8ec21",
   "metadata": {},
   "outputs": [],
   "source": []
  },
  {
   "cell_type": "code",
   "execution_count": null,
   "id": "76ccf80f-8728-4220-b363-0fca8d9d23f7",
   "metadata": {},
   "outputs": [],
   "source": []
  },
  {
   "cell_type": "code",
   "execution_count": null,
   "id": "9378b2d8-5318-47fb-9a0f-cdd90fefcd88",
   "metadata": {},
   "outputs": [],
   "source": []
  },
  {
   "cell_type": "code",
   "execution_count": null,
   "id": "b62897a1-4c21-43f6-8c71-76f494c10d5c",
   "metadata": {},
   "outputs": [],
   "source": []
  },
  {
   "cell_type": "code",
   "execution_count": null,
   "id": "125d22f7-76c6-4aee-8faa-7d984f27c8af",
   "metadata": {},
   "outputs": [],
   "source": []
  },
  {
   "cell_type": "code",
   "execution_count": null,
   "id": "9a5ef90b-e357-4e0e-adc4-1c4fa316580e",
   "metadata": {},
   "outputs": [],
   "source": []
  },
  {
   "cell_type": "code",
   "execution_count": null,
   "id": "37709823-dc5a-49d2-8c26-7d13bb8ef143",
   "metadata": {},
   "outputs": [],
   "source": []
  },
  {
   "cell_type": "code",
   "execution_count": null,
   "id": "1dda9f2c-911e-4064-b46e-9f1e535704bc",
   "metadata": {},
   "outputs": [],
   "source": []
  }
 ],
 "metadata": {
  "kernelspec": {
   "display_name": "Python 3 (ipykernel)",
   "language": "python",
   "name": "python3"
  },
  "language_info": {
   "codemirror_mode": {
    "name": "ipython",
    "version": 3
   },
   "file_extension": ".py",
   "mimetype": "text/x-python",
   "name": "python",
   "nbconvert_exporter": "python",
   "pygments_lexer": "ipython3",
   "version": "3.9.13"
  }
 },
 "nbformat": 4,
 "nbformat_minor": 5
}
