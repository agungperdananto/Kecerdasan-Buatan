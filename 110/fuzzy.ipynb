{
 "cells": [
  {
   "cell_type": "markdown",
   "id": "f7acee0e-e5ab-4940-9e0d-cb169291f70c",
   "metadata": {},
   "source": [
    "## Fuzzy Inference System"
   ]
  },
  {
   "cell_type": "markdown",
   "id": "d1389104-9bbb-4594-b016-6dfe824e7161",
   "metadata": {},
   "source": [
    "<img src=\"images/image-1.png\"/>"
   ]
  },
  {
   "cell_type": "markdown",
   "id": "9f8a6033-7473-4933-b715-7aee82b9be41",
   "metadata": {},
   "source": [
    "<img src=\"images/image-2.png\"/>"
   ]
  },
  {
   "cell_type": "markdown",
   "id": "5e8b53d1-6db5-42f3-88de-1f9023299f3e",
   "metadata": {},
   "source": [
    "<img src=\"images/image-3.png\"/>"
   ]
  },
  {
   "cell_type": "markdown",
   "id": "594adcd4-afe7-4dec-a43f-9e86f67d0acf",
   "metadata": {},
   "source": [
    "<img src=\"images/image-4.png\"/>"
   ]
  },
  {
   "cell_type": "markdown",
   "id": "0c32d085-61a8-44c7-b8c6-e48a3e2dcb6d",
   "metadata": {},
   "source": [
    "<img src=\"images/image-5.png\"/>"
   ]
  },
  {
   "cell_type": "code",
   "execution_count": 9,
   "id": "9189ac5b-e6db-4feb-b0ed-97274ef0399b",
   "metadata": {},
   "outputs": [],
   "source": [
    "class Fuzzy():\n",
    "\n",
    "    def __init__(self):\n",
    "        self.min = 0\n",
    "        self.max = 0\n",
    "\n",
    "    def down(self, x):\n",
    "        return (self.max - x) / (self.max - self.min)\n",
    "\n",
    "    def up(self, x):\n",
    "        return (x - self.min) / (self.max - self.min)\n",
    "\n",
    "    def rev_down(self, value):\n",
    "        return self.max - value * (self.max - self.min)\n",
    "\n",
    "    def rev_up(self, value):\n",
    "        return value *(self.max - self.min) + self.min\n",
    "\n",
    "# down\n",
    "# value = (max - x) / (max - min)\n",
    "# value * (max - min) = max - x\n",
    "# value * (max - min) - max = - x\n",
    "# - x = value * (max - min) - max\n",
    "# x = max - value * (max - min)\n",
    "\n",
    "# up\n",
    "# value = (x - min) / (max - min)\n",
    "# value * (max - min) = x - min\n",
    "# x = value *(max-min) + min"
   ]
  },
  {
   "cell_type": "code",
   "execution_count": 6,
   "id": "f023d589-5825-4875-87f1-bb7014bb2fe2",
   "metadata": {},
   "outputs": [
    {
     "name": "stdout",
     "output_type": "stream",
     "text": [
      "turun: 0.25\n",
      "naik: 0.75\n"
     ]
    }
   ],
   "source": [
    "# Permintaan\n",
    "# turun /naik\n",
    "fis = Fuzzy()\n",
    "fis.min = 1000\n",
    "fis.max = 5000\n",
    "turun = fis.down(4000)\n",
    "print(f\"turun: {turun}\")\n",
    "naik = fis.up(4000)\n",
    "print(f\"naik: {naik}\")"
   ]
  },
  {
   "cell_type": "code",
   "execution_count": 7,
   "id": "c1ff34eb-c2cd-4069-98f4-b70fbd2874d8",
   "metadata": {},
   "outputs": [
    {
     "name": "stdout",
     "output_type": "stream",
     "text": [
      "sedikit: 0.6\n",
      "banyak: 0.4\n"
     ]
    }
   ],
   "source": [
    "# Persediaan\n",
    "# sedikit/ banyak\n",
    "fis = Fuzzy()\n",
    "fis.min = 100\n",
    "fis.max = 600\n",
    "\n",
    "sedikit = fis.down(300)\n",
    "banyak = fis.up(300)\n",
    "\n",
    "print(f\"sedikit: {sedikit}\")\n",
    "print(f\"banyak: {banyak}\")"
   ]
  },
  {
   "cell_type": "code",
   "execution_count": 13,
   "id": "9a9f2fd2-f1c0-4fc5-a85e-bc6877a6db5d",
   "metadata": {},
   "outputs": [
    {
     "name": "stdout",
     "output_type": "stream",
     "text": [
      "berkurang: 5750.0\n",
      "bertambah: 5000.0\n"
     ]
    }
   ],
   "source": [
    "# Produksi\n",
    "fis = Fuzzy()\n",
    "fis.min = 2000\n",
    "fis.max = 7000\n",
    "\n",
    "berkurang = fis.rev_down(0.25)\n",
    "bertambah = fis.rev_up(0.6)\n",
    "\n",
    "print(f\"berkurang: {berkurang}\")\n",
    "print(f\"bertambah: {bertambah}\")"
   ]
  },
  {
   "cell_type": "code",
   "execution_count": 14,
   "id": "930c62c4-00ac-4e27-ade2-0f29d3a7ae95",
   "metadata": {},
   "outputs": [],
   "source": [
    "class Permintaan(Fuzzy):\n",
    "    pass\n",
    "class Persediaan(Fuzzy):\n",
    "    pass\n",
    "class Produksi(Fuzzy):\n",
    "    pass"
   ]
  },
  {
   "cell_type": "code",
   "execution_count": null,
   "id": "003e5f65-4ef1-4bbd-aa9a-63fa5497be3a",
   "metadata": {},
   "outputs": [],
   "source": [
    "Permintaan = Demand\n",
    "turun = decrease\n",
    "naik = increase\n",
    "Persediaan = Stock\n",
    "sedikit = a_few\n",
    "banyak = a_lot\n",
    "Produksi = Production\n",
    "berkurang = reduce"
   ]
  },
  {
   "cell_type": "code",
   "execution_count": null,
   "id": "cfc2faa9-d53d-4967-b57e-12279b60b1b0",
   "metadata": {},
   "outputs": [],
   "source": []
  },
  {
   "cell_type": "code",
   "execution_count": null,
   "id": "35f8cff9-e4bd-4088-848f-3048c1462e89",
   "metadata": {},
   "outputs": [],
   "source": []
  }
 ],
 "metadata": {
  "kernelspec": {
   "display_name": "Python 3 (ipykernel)",
   "language": "python",
   "name": "python3"
  },
  "language_info": {
   "codemirror_mode": {
    "name": "ipython",
    "version": 3
   },
   "file_extension": ".py",
   "mimetype": "text/x-python",
   "name": "python",
   "nbconvert_exporter": "python",
   "pygments_lexer": "ipython3",
   "version": "3.9.13"
  }
 },
 "nbformat": 4,
 "nbformat_minor": 5
}
