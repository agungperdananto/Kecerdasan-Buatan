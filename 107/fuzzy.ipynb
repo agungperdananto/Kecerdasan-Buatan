{
 "cells": [
  {
   "cell_type": "markdown",
   "id": "f7acee0e-e5ab-4940-9e0d-cb169291f70c",
   "metadata": {},
   "source": [
    "## Fuzzy Inference System"
   ]
  },
  {
   "cell_type": "markdown",
   "id": "d1389104-9bbb-4594-b016-6dfe824e7161",
   "metadata": {},
   "source": [
    "<img src=\"images/image-1.png\"/>"
   ]
  },
  {
   "cell_type": "markdown",
   "id": "9f8a6033-7473-4933-b715-7aee82b9be41",
   "metadata": {},
   "source": [
    "<img src=\"images/image-2.png\"/>"
   ]
  },
  {
   "cell_type": "markdown",
   "id": "5e8b53d1-6db5-42f3-88de-1f9023299f3e",
   "metadata": {},
   "source": [
    "<img src=\"images/image-3.png\"/>"
   ]
  },
  {
   "cell_type": "markdown",
   "id": "594adcd4-afe7-4dec-a43f-9e86f67d0acf",
   "metadata": {},
   "source": [
    "<img src=\"images/image-4.png\"/>"
   ]
  },
  {
   "cell_type": "markdown",
   "id": "0c32d085-61a8-44c7-b8c6-e48a3e2dcb6d",
   "metadata": {},
   "source": [
    "<img src=\"images/image-5.png\"/>"
   ]
  },
  {
   "cell_type": "code",
   "execution_count": 1,
   "id": "9189ac5b-e6db-4feb-b0ed-97274ef0399b",
   "metadata": {},
   "outputs": [],
   "source": [
    "class Fuzzy():\n",
    "\n",
    "    def __init__(self):\n",
    "        self.max = 0\n",
    "        self.min = 0\n",
    "\n",
    "    def down(self, x):\n",
    "        return (self.max - x) / (self.max - self.min)\n",
    "\n",
    "    def up(self, x):\n",
    "        return (x - self.min) / (self.max - self.min)\n",
    "\n",
    "    def rev_down(self, value):\n",
    "        return self.max - value * (self.max - self.min)\n",
    "\n",
    "    def rev_up(self, value):\n",
    "        return value * (self.max - self.min) + self.min\n",
    "# Down\n",
    "# value = (max - x) / (max - min)\n",
    "# value * (max - min) = max -x\n",
    "# value * (max - min) - max = -x\n",
    "# -x = value * (max - min) - max \n",
    "# x = max - value * (max - min)\n",
    "\n",
    "# Up\n",
    "# value = (x - min) / (max - min)\n",
    "# value * (max - min) = x - min\n",
    "# value * (max - min) + min = x\n",
    "# x = value * (max - min) + min"
   ]
  },
  {
   "cell_type": "code",
   "execution_count": 2,
   "id": "f023d589-5825-4875-87f1-bb7014bb2fe2",
   "metadata": {},
   "outputs": [
    {
     "name": "stdout",
     "output_type": "stream",
     "text": [
      "Nilai fuzzy variable permintaan himpunan turun adalah: 0.25\n",
      "Nilai fuzzy variable permintaan himpunan naik adalah: 0.75\n"
     ]
    }
   ],
   "source": [
    "# Permintaan\n",
    "# Turun(down) min = 1000 max = 5000\n",
    "# Naik (up) min = 1000 max = 5000\n",
    "# x = 4000\n",
    "\n",
    "fis = Fuzzy()\n",
    "\n",
    "fis.min = 1000\n",
    "fis.max = 5000\n",
    "\n",
    "turun = fis.down(4000)\n",
    "print(f\"Nilai fuzzy variable permintaan himpunan turun adalah: {turun}\")\n",
    "\n",
    "naik = fis.up(4000)\n",
    "print(f\"Nilai fuzzy variable permintaan himpunan naik adalah: {naik}\")"
   ]
  },
  {
   "cell_type": "code",
   "execution_count": 3,
   "id": "5b8d45f0-da19-43fb-ba08-ddc036db40c3",
   "metadata": {},
   "outputs": [
    {
     "name": "stdout",
     "output_type": "stream",
     "text": [
      "Nilai fuzzy variable Persediaan himpunan sedikit adalah: 0.6\n",
      "Nilai fuzzy variable Persediaan himpunan banyak adalah: 0.4\n"
     ]
    }
   ],
   "source": [
    "# Persediaan\n",
    "# Sedikit(down) min = 100 max = 600\n",
    "# Banyak (up) min = 100 max = 600\n",
    "# x = 300\n",
    "\n",
    "fis.min = 100\n",
    "fis.max = 600\n",
    "\n",
    "sedikit = fis.down(300)\n",
    "print(f\"Nilai fuzzy variable Persediaan himpunan sedikit adalah: {sedikit}\")\n",
    "\n",
    "banyak = fis.up(300)\n",
    "print(f\"Nilai fuzzy variable Persediaan himpunan banyak adalah: {banyak}\")\n"
   ]
  },
  {
   "cell_type": "code",
   "execution_count": 4,
   "id": "eafd1a3b-5560-4b9b-aa07-628aac17623d",
   "metadata": {},
   "outputs": [
    {
     "name": "stdout",
     "output_type": "stream",
     "text": [
      "Nilai riil variable Produksi himpunan berkurang adalah: 5750.0\n",
      "Nilai riil variable Produksi himpunan bertambah adalah: 5000.0\n"
     ]
    }
   ],
   "source": [
    "# produksi\n",
    "fis = Fuzzy()\n",
    "fis.min = 2000\n",
    "fis.max = 7000\n",
    "\n",
    "berkurang = fis.rev_down(0.25)\n",
    "print(f\"Nilai riil variable Produksi himpunan berkurang adalah: {berkurang}\")\n",
    "\n",
    "bertambah = fis.rev_up(0.6)\n",
    "print(f\"Nilai riil variable Produksi himpunan bertambah adalah: {bertambah}\")"
   ]
  },
  {
   "cell_type": "code",
   "execution_count": 45,
   "id": "fefa9cef-fe92-4c31-9c54-8a6a2300783e",
   "metadata": {},
   "outputs": [],
   "source": [
    "# Permintaan = Demand\n",
    "#     turun = decrease\n",
    "#     naik = increase\n",
    "# Persediaan = Stock\n",
    "#     sedikit = a_few\n",
    "#     banyak = a_lot\n",
    "# Produksi = Production\n",
    "#     berkurang = reduce\n",
    "#     bertambah = add\n",
    "\n",
    "class Demand(Fuzzy):\n",
    "\n",
    "    def __init__(self):\n",
    "        self.min = 1000\n",
    "        self.max = 5000\n",
    "\n",
    "    def decrease(self, x):\n",
    "        if x < self.min:\n",
    "            return 1\n",
    "        if x > self.max:\n",
    "            return 0\n",
    "        return self.down(x)\n",
    "\n",
    "    def increase(self, x):\n",
    "        if x < self.min:\n",
    "            return 0\n",
    "        if x > self.max:\n",
    "            return 1\n",
    "        return self.up(x)\n",
    "\n",
    "class Stock(Fuzzy):\n",
    "\n",
    "    def __init__(self):\n",
    "        self.min = 100\n",
    "        self.max = 600\n",
    "\n",
    "    def a_few(self, x):\n",
    "        if x < self.min:\n",
    "            return 1\n",
    "        if x > self.max:\n",
    "            return 0\n",
    "        return self.down(x)\n",
    "\n",
    "    def a_lot(self, x):\n",
    "        if x < self.min:\n",
    "            return 0\n",
    "        if x > self.max:\n",
    "            return 1\n",
    "        return self.up(x)\n",
    "    \n",
    "\n",
    "class Production(Fuzzy):\n",
    "\n",
    "    def __init__(self):\n",
    "        self.min = 2000\n",
    "        self.max = 7000\n",
    "    \n",
    "    def reduce(self, fuzzy_value):\n",
    "        return self.rev_down(fuzzy_value)\n",
    "\n",
    "    def add(self, fuzzy_value):\n",
    "        return self.rev_up(fuzzy_value)"
   ]
  },
  {
   "cell_type": "code",
   "execution_count": 23,
   "id": "6867eaaa-de73-4457-9751-cfe5733564df",
   "metadata": {
    "jp-MarkdownHeadingCollapsed": true
   },
   "outputs": [
    {
     "data": {
      "text/plain": [
       "0"
      ]
     },
     "execution_count": 23,
     "metadata": {},
     "output_type": "execute_result"
    }
   ],
   "source": [
    "pmt = Demand()\n",
    "x = 9000\n",
    "pmt.decrease(x)\n"
   ]
  },
  {
   "cell_type": "code",
   "execution_count": 35,
   "id": "221889b0-dd48-4c93-8934-7497d1a9b3eb",
   "metadata": {},
   "outputs": [
    {
     "data": {
      "text/plain": [
       "5000.0"
      ]
     },
     "execution_count": 35,
     "metadata": {},
     "output_type": "execute_result"
    }
   ],
   "source": [
    "prod = Production()\n",
    "fuzzy_value = 0.6\n",
    "prod.add(fuzzy_value)"
   ]
  },
  {
   "cell_type": "code",
   "execution_count": 46,
   "id": "ab39fa3a-594d-47af-bee6-c045843efca1",
   "metadata": {},
   "outputs": [],
   "source": [
    "rule_map = {\n",
    "    (\"decrease\", \"a_lot\"): \"reduce\",\n",
    "    (\"decrease\", \"a_few\"): \"reduce\",\n",
    "    (\"increase\", \"a_lot\"): \"add\",\n",
    "    (\"increase\", \"a_few\"): \"add\"\n",
    "}"
   ]
  },
  {
   "cell_type": "code",
   "execution_count": 51,
   "id": "35cb8d39-450e-4cad-99c2-77b120b9320a",
   "metadata": {},
   "outputs": [
    {
     "name": "stdout",
     "output_type": "stream",
     "text": [
      "Jadi, jumlah makanan jenis ABC yang harus diproduksi sebanyak 4983 kemasan.\n"
     ]
    }
   ],
   "source": [
    "fuzzy_real = 0\n",
    "fuzzy = 0\n",
    "\n",
    "for k, v in rule_map.items():\n",
    "    # print(f\"{k[0]=} {k[1]=}\")\n",
    "    # print(f\"{v=}\")\n",
    "    demand = Demand()\n",
    "    stock = Stock()\n",
    "    prod = Production()\n",
    "    \n",
    "    x_demand = 4000\n",
    "    x_stock = 300\n",
    "\n",
    "    demand_value = demand.decrease(x_demand) if k[0] == \"decrease\" else demand.increase(x_demand)\n",
    "    stock_value = stock.a_few(x_stock) if k[1] == \"a_few\" else stock.a_lot(x_stock)\n",
    "\n",
    "    prod_value = min(demand_value, stock_value)\n",
    "\n",
    "    x_prod = prod.reduce(prod_value) if v == \"reduce\" else prod.add(prod_value)\n",
    "    \n",
    "    fuzzy_real += prod_value * x_prod\n",
    "    fuzzy += prod_value\n",
    "\n",
    "result = int(fuzzy_real / fuzzy)\n",
    "result\n",
    "print(f\"Jadi, jumlah makanan jenis ABC yang harus diproduksi sebanyak {result} kemasan.\")"
   ]
  },
  {
   "cell_type": "code",
   "execution_count": null,
   "id": "63271bf8-6eb7-467b-b23b-2c9938570848",
   "metadata": {},
   "outputs": [],
   "source": []
  },
  {
   "cell_type": "code",
   "execution_count": null,
   "id": "720ab730-4a0b-4ed6-b435-edfe614a88d5",
   "metadata": {},
   "outputs": [],
   "source": []
  },
  {
   "cell_type": "code",
   "execution_count": null,
   "id": "d046d5da-5829-4093-a56d-89233d92ed58",
   "metadata": {},
   "outputs": [],
   "source": []
  }
 ],
 "metadata": {
  "kernelspec": {
   "display_name": "Python 3 (ipykernel)",
   "language": "python",
   "name": "python3"
  },
  "language_info": {
   "codemirror_mode": {
    "name": "ipython",
    "version": 3
   },
   "file_extension": ".py",
   "mimetype": "text/x-python",
   "name": "python",
   "nbconvert_exporter": "python",
   "pygments_lexer": "ipython3",
   "version": "3.9.13"
  }
 },
 "nbformat": 4,
 "nbformat_minor": 5
}
