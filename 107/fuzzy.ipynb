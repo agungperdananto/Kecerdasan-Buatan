{
 "cells": [
  {
   "cell_type": "markdown",
   "id": "f7acee0e-e5ab-4940-9e0d-cb169291f70c",
   "metadata": {},
   "source": [
    "## Fuzzy Inference System"
   ]
  },
  {
   "cell_type": "markdown",
   "id": "d1389104-9bbb-4594-b016-6dfe824e7161",
   "metadata": {},
   "source": [
    "<img src=\"images/image-1.png\"/>"
   ]
  },
  {
   "cell_type": "markdown",
   "id": "9f8a6033-7473-4933-b715-7aee82b9be41",
   "metadata": {},
   "source": [
    "<img src=\"images/image-2.png\"/>"
   ]
  },
  {
   "cell_type": "markdown",
   "id": "5e8b53d1-6db5-42f3-88de-1f9023299f3e",
   "metadata": {},
   "source": [
    "<img src=\"images/image-3.png\"/>"
   ]
  },
  {
   "cell_type": "markdown",
   "id": "594adcd4-afe7-4dec-a43f-9e86f67d0acf",
   "metadata": {},
   "source": [
    "<img src=\"images/image-4.png\"/>"
   ]
  },
  {
   "cell_type": "markdown",
   "id": "0c32d085-61a8-44c7-b8c6-e48a3e2dcb6d",
   "metadata": {},
   "source": [
    "<img src=\"images/image-5.png\"/>"
   ]
  },
  {
   "cell_type": "code",
   "execution_count": 24,
   "id": "9189ac5b-e6db-4feb-b0ed-97274ef0399b",
   "metadata": {},
   "outputs": [],
   "source": [
    "class Fuzzy():\n",
    "\n",
    "    def __init__(self):\n",
    "        self.max = 0\n",
    "        self.min = 0\n",
    "\n",
    "    def down(self, x):\n",
    "        return (self.max - x) / (self.max - self.min)\n",
    "\n",
    "    def up(self, x):\n",
    "        return (x - self.min) / (self.max - self.min)\n",
    "\n",
    "    def rev_down(self, value):\n",
    "        return self.max - value * (self.max - self.min)\n",
    "\n",
    "    def rev_up(self, value):\n",
    "        return value * (self.max - self.min) + self.min\n",
    "# Down\n",
    "# value = (max - x) / (max - min)\n",
    "# value * (max - min) = max -x\n",
    "# value * (max - min) - max = -x\n",
    "# -x = value * (max - min) - max \n",
    "# x = max - value * (max - min)\n",
    "\n",
    "# Up\n",
    "# value = (x - min) / (max - min)\n",
    "# value * (max - min) = x - min\n",
    "# value * (max - min) + min = x\n",
    "# x = value * (max - min) + min"
   ]
  },
  {
   "cell_type": "code",
   "execution_count": 7,
   "id": "f023d589-5825-4875-87f1-bb7014bb2fe2",
   "metadata": {},
   "outputs": [
    {
     "name": "stdout",
     "output_type": "stream",
     "text": [
      "Nilai fuzzy variable permintaan himpunan turun adalah: 0.25\n",
      "Nilai fuzzy variable permintaan himpunan naik adalah: 0.75\n"
     ]
    }
   ],
   "source": [
    "# Permintaan\n",
    "# Turun(down) min = 1000 max = 5000\n",
    "# Naik (up) min = 1000 max = 5000\n",
    "# x = 4000\n",
    "\n",
    "fis = Fuzzy()\n",
    "\n",
    "fis.min = 1000\n",
    "fis.max = 5000\n",
    "\n",
    "turun = fis.down(4000)\n",
    "print(f\"Nilai fuzzy variable permintaan himpunan turun adalah: {turun}\")\n",
    "\n",
    "naik = fis.up(4000)\n",
    "print(f\"Nilai fuzzy variable permintaan himpunan naik adalah: {naik}\")"
   ]
  },
  {
   "cell_type": "code",
   "execution_count": 14,
   "id": "5b8d45f0-da19-43fb-ba08-ddc036db40c3",
   "metadata": {},
   "outputs": [
    {
     "name": "stdout",
     "output_type": "stream",
     "text": [
      "Nilai fuzzy variable Persediaan himpunan sedikit adalah: 0.6\n",
      "Nilai fuzzy variable Persediaan himpunan banyak adalah: 0.4\n"
     ]
    }
   ],
   "source": [
    "# Persediaan\n",
    "# Sedikit(down) min = 100 max = 600\n",
    "# Banyak (up) min = 100 max = 600\n",
    "# x = 300\n",
    "\n",
    "fis.min = 100\n",
    "fis.max = 600\n",
    "\n",
    "sedikit = fis.down(300)\n",
    "print(f\"Nilai fuzzy variable Persediaan himpunan sedikit adalah: {sedikit}\")\n",
    "\n",
    "banyak = fis.up(300)\n",
    "print(f\"Nilai fuzzy variable Persediaan himpunan banyak adalah: {banyak}\")\n"
   ]
  },
  {
   "cell_type": "code",
   "execution_count": 26,
   "id": "eafd1a3b-5560-4b9b-aa07-628aac17623d",
   "metadata": {},
   "outputs": [
    {
     "name": "stdout",
     "output_type": "stream",
     "text": [
      "Nilai riil variable Produksi himpunan berkurang adalah: 5750.0\n",
      "Nilai riil variable Produksi himpunan bertambah adalah: 5000.0\n"
     ]
    }
   ],
   "source": [
    "# produksi\n",
    "fis = Fuzzy()\n",
    "fis.min = 2000\n",
    "fis.max = 7000\n",
    "\n",
    "berkurang = fis.rev_down(0.25)\n",
    "print(f\"Nilai riil variable Produksi himpunan berkurang adalah: {berkurang}\")\n",
    "\n",
    "bertambah = fis.rev_up(0.6)\n",
    "print(f\"Nilai riil variable Produksi himpunan bertambah adalah: {bertambah}\")"
   ]
  },
  {
   "cell_type": "code",
   "execution_count": null,
   "id": "fefa9cef-fe92-4c31-9c54-8a6a2300783e",
   "metadata": {},
   "outputs": [],
   "source": [
    "# Permintaan = Demand\n",
    "#     turun = decrease\n",
    "#     naik = increase\n",
    "# Persediaan = Stock\n",
    "#     sedikit = a_few\n",
    "#     banyak = a_lot\n",
    "# Produksi = Produksi\n",
    "#     berkurang = reduce\n",
    "#     bertambah = add\n",
    "\n",
    "class Permintaan(Fuzzy):\n",
    "    pass\n",
    "class Persediaan(Fuzzy):\n",
    "    pass"
   ]
  },
  {
   "cell_type": "code",
   "execution_count": null,
   "id": "ca2f20dc-fbb3-4b4e-b244-8b02290a3a35",
   "metadata": {},
   "outputs": [],
   "source": [
    "class Produksi(Fuzzy):\n",
    "    pass"
   ]
  },
  {
   "cell_type": "code",
   "execution_count": null,
   "id": "221889b0-dd48-4c93-8934-7497d1a9b3eb",
   "metadata": {},
   "outputs": [],
   "source": []
  }
 ],
 "metadata": {
  "kernelspec": {
   "display_name": "Python 3 (ipykernel)",
   "language": "python",
   "name": "python3"
  },
  "language_info": {
   "codemirror_mode": {
    "name": "ipython",
    "version": 3
   },
   "file_extension": ".py",
   "mimetype": "text/x-python",
   "name": "python",
   "nbconvert_exporter": "python",
   "pygments_lexer": "ipython3",
   "version": "3.9.13"
  }
 },
 "nbformat": 4,
 "nbformat_minor": 5
}
